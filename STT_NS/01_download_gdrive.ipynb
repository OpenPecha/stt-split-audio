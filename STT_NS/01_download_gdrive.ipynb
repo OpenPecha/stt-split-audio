{
 "cells": [
  {
   "cell_type": "code",
   "execution_count": null,
   "metadata": {},
   "outputs": [],
   "source": [
    "import sys\n",
    "sys.path.append('../util')\n",
    "\n",
    "from util import read_spreadsheet\n",
    "from util import collect_segments\n",
    "from util import download_audio_gdrive"
   ]
  },
  {
   "cell_type": "code",
   "execution_count": null,
   "metadata": {},
   "outputs": [],
   "source": [
    "\n",
    "df = read_spreadsheet(sheet_id=\"107pF1LcHgbJtCGCdGwffqIyM70eImBmgPOjUuHQfZ7g\")\n",
    "for index, row in df.iterrows():\n",
    "    if not isinstance(row['Audio'], str) or not isinstance(row['STT_0000'], str):\n",
    "        break\n",
    "    id = row['STT_0000']\n",
    "    gd_url = row['Audio']\n",
    "    sr_no = row.iloc[0]\n",
    "    if sr_no >= 279 and sr_no <= 293:\n",
    "        print(id, gd_url)\n",
    "        id = id + '.wav'\n",
    "        download_audio_gdrive(gd_url, id)"
   ]
  },
  {
   "cell_type": "code",
   "execution_count": null,
   "metadata": {},
   "outputs": [],
   "source": [
    "! python split.py"
   ]
  },
  {
   "cell_type": "code",
   "execution_count": null,
   "metadata": {},
   "outputs": [],
   "source": [
    "collect_segments('STT_NS', 'after_split', 'segments_ns')"
   ]
  }
 ],
 "metadata": {
  "kernelspec": {
   "display_name": ".env",
   "language": "python",
   "name": "python3"
  },
  "language_info": {
   "codemirror_mode": {
    "name": "ipython",
    "version": 3
   },
   "file_extension": ".py",
   "mimetype": "text/x-python",
   "name": "python",
   "nbconvert_exporter": "python",
   "pygments_lexer": "ipython3",
   "version": "3.10.12"
  }
 },
 "nbformat": 4,
 "nbformat_minor": 2
}
