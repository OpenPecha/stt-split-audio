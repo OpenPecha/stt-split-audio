{
 "cells": [
  {
   "cell_type": "code",
   "execution_count": null,
   "metadata": {},
   "outputs": [],
   "source": [
    "import sys\n",
    "sys.path.append('../util')\n",
    "\n",
    "from util import read_spreadsheet\n",
    "from util import collect_segments\n",
    "from util import split_audio_files"
   ]
  },
  {
   "cell_type": "code",
   "execution_count": null,
   "metadata": {},
   "outputs": [],
   "source": [
    "from_id = 1\n",
    "to_id   = 30\n",
    "\n",
    "df = read_spreadsheet(sheet_id=\"1SjlnWsr6YVhBIW6EaS0ITmboDmEuj2VnxGRNL50OPx4\")\n",
    "\n",
    "for index, row in df.iterrows():\n",
    "    # if not isinstance(row['YouTube link'], str) or not isinstance(row['Sr. No'], int):\n",
    "        # break\n",
    "    id = row['ID']\n",
    "    yt_url = row['YouTube link']\n",
    "    sr_no = row['Sr. No']\n",
    "    # print(id, yt_url)\n",
    "    if sr_no >= from_id and sr_no <= to_id:\n",
    "        print(id, yt_url)\n",
    "        yt_downloaded = f\"\"\"yt-dlp --extract-audio --audio-quality 0 --audio-format wav --postprocessor-args \"-ar 16000 -ac 1\" {yt_url} -o './full_audio/{id}.%(ext)s'\"\"\"\n",
    "        ! {yt_downloaded}\n"
   ]
  },
  {
   "cell_type": "code",
   "execution_count": null,
   "metadata": {},
   "outputs": [],
   "source": [
    "split_audio_files('STT_HS', 'wav')"
   ]
  },
  {
   "cell_type": "code",
   "execution_count": null,
   "metadata": {},
   "outputs": [],
   "source": [
    "collect_segments('STT_HS', 'after_split', 'segments_hs')"
   ]
  },
  {
   "cell_type": "code",
   "execution_count": null,
   "metadata": {},
   "outputs": [],
   "source": [
    "! aws s3 cp segments_hs  s3://monlam.ai.stt/wav16k/ --recursive"
   ]
  }
 ],
 "metadata": {
  "kernelspec": {
   "display_name": ".env",
   "language": "python",
   "name": "python3"
  },
  "language_info": {
   "codemirror_mode": {
    "name": "ipython",
    "version": 3
   },
   "file_extension": ".py",
   "mimetype": "text/x-python",
   "name": "python",
   "nbconvert_exporter": "python",
   "pygments_lexer": "ipython3",
   "version": "3.10.12"
  }
 },
 "nbformat": 4,
 "nbformat_minor": 2
}
