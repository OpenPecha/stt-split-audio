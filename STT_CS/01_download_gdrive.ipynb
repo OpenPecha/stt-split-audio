{
 "cells": [
  {
   "cell_type": "code",
   "execution_count": null,
   "metadata": {},
   "outputs": [],
   "source": [
    "! pip install python-dotenv"
   ]
  },
  {
   "cell_type": "code",
   "execution_count": null,
   "metadata": {},
   "outputs": [],
   "source": [
    "import sys\n",
    "sys.path.append('../util')\n",
    "\n",
    "from util import read_spreadsheet\n",
    "from util import collect_segments\n",
    "from util import download_audio_gdrive"
   ]
  },
  {
   "cell_type": "code",
   "execution_count": null,
   "metadata": {},
   "outputs": [],
   "source": [
    "df = read_spreadsheet(sheet_id=\"1-WuaaWKIHJfGQhDXVSwG-v2qGqxQYVqqk7lFeHyxEzk\")\n",
    "\n",
    "for index, row in df.iterrows():\n",
    "    file_name = row['Audio File (Original)']\n",
    "    gd_url = row['Audio link text']\n",
    "    Sr_no = row['S. no.']\n",
    "    \n",
    "    if Sr_no >= 543 and Sr_no <= 575:\n",
    "        # print(file_name, gd_url, Sr_no)\n",
    "        file_name = file_name.replace(\"/\", \"_\") + '.mp3'\n",
    "        download_audio_gdrive(gd_url, file_name)\n"
   ]
  },
  {
   "cell_type": "code",
   "execution_count": null,
   "metadata": {},
   "outputs": [],
   "source": [
    "! python split.py"
   ]
  },
  {
   "cell_type": "code",
   "execution_count": null,
   "metadata": {},
   "outputs": [],
   "source": [
    "collect_segments('STT_CS', 'after_split', 'segments_cs')"
   ]
  }
 ],
 "metadata": {
  "kernelspec": {
   "display_name": ".env",
   "language": "python",
   "name": "python3"
  },
  "language_info": {
   "codemirror_mode": {
    "name": "ipython",
    "version": 3
   },
   "file_extension": ".py",
   "mimetype": "text/x-python",
   "name": "python",
   "nbconvert_exporter": "python",
   "pygments_lexer": "ipython3",
   "version": "3.10.12"
  },
  "orig_nbformat": 4
 },
 "nbformat": 4,
 "nbformat_minor": 2
}
