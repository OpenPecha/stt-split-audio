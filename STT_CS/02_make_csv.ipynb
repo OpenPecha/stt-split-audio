{
 "cells": [
  {
   "cell_type": "code",
   "execution_count": null,
   "metadata": {},
   "outputs": [],
   "source": [
    "! aws s3 cp segments_cs  s3://monlam.ai.stt/wav16k/ --recursive"
   ]
  },
  {
   "cell_type": "code",
   "execution_count": 3,
   "metadata": {},
   "outputs": [],
   "source": [
    "import sys\n",
    "sys.path.append('../util')\n",
    "\n",
    "from util import get_max_db_id\n",
    "from util import get_time_span\n",
    "from util import get_all_url"
   ]
  },
  {
   "cell_type": "code",
   "execution_count": 4,
   "metadata": {},
   "outputs": [],
   "source": [
    "target_directory = f\"segments_cs\""
   ]
  },
  {
   "cell_type": "code",
   "execution_count": 6,
   "metadata": {},
   "outputs": [
    {
     "name": "stdout",
     "output_type": "stream",
     "text": [
      "The maximum ID in the 'Task' table is: 430373\n"
     ]
    }
   ],
   "source": [
    "STT_CS_GF = 6\n",
    "STT_CS_GA = 4\n",
    "STT_CS_GB = 3\n",
    "\n",
    "group_id = STT_CS_GF\n",
    "last_db_id = get_max_db_id()"
   ]
  },
  {
   "cell_type": "code",
   "execution_count": 5,
   "metadata": {},
   "outputs": [
    {
     "data": {
      "application/vnd.jupyter.widget-view+json": {
       "model_id": "cba82423abba4232951e2c754a9f3a94",
       "version_major": 2,
       "version_minor": 0
      },
      "text/plain": [
       "  0%|          | 0/4384 [00:00<?, ?it/s]"
      ]
     },
     "metadata": {},
     "output_type": "display_data"
    }
   ],
   "source": [
    "from transformers import pipeline\n",
    "from tqdm.auto import tqdm\n",
    "\n",
    "from pathlib import Path\n",
    "\n",
    "target_path = Path(target_directory)\n",
    "\n",
    "rows = []\n",
    "generator = pipeline(model=\"openpecha/wav2vec2_run8\")\n",
    "\n",
    "for file in tqdm(target_path.glob('*.wav'), total=len(list(target_path.glob('*.wav')))):\n",
    "    inf = generator(str(file))[\"text\"]\n",
    "    rows.append([file.stem, f\"https://d38pmlk0v88drf.cloudfront.net/wav16k/{file.name}\", inf, get_time_span(str(file.name))])"
   ]
  },
  {
   "cell_type": "code",
   "execution_count": 7,
   "metadata": {},
   "outputs": [],
   "source": [
    "import pandas as pd\n",
    "df = pd.DataFrame(rows, columns =['file_name', 'url', 'inference_transcript', 'audio_duration'])"
   ]
  },
  {
   "cell_type": "code",
   "execution_count": 8,
   "metadata": {},
   "outputs": [
    {
     "data": {
      "text/plain": [
       "{'inference_transcript': {0: 'ད་ཡི་ཡོང་ཁྱོད་ག་རེ་བྱེད་ཡིན། རཚེན་མན་ང་ཚོ་རྗེ་མ་ྟན།',\n",
       "  1: 'ཆུ་ཡག་པོ་ཟ་གི་འདུག་། ཨེ་ནས་ཁོ་གཟུགས་པོ་དི་ྡཨནས། སྔན་མ་སྔོན་མ་དནས་བུ་བུ་',\n",
       "  2: 'ཨ། ཨ། ཨེ་ནས་འདིི་སློབ་གྲྭ་ལ་བསདད་པས་ལབ་རེད་ད། ཡ་ཡ་ལབ་རེད་ད་རཱ།',\n",
       "  3: 'ོ་་་ག་ལ་མགོ་།',\n",
       "  4: 'ཨེ་ནས། ཁོ་ཨ་ནསགཟིབ་པོ་འུ་ཙི་ཆུང་ཆུང་ཡོད་བསྡད་ཡིན་ན། ཁོ་ཞན་པ་ཡིན།',\n",
       "  5: 'ཁྱོ། ྱིན་ལླ་འཛིན་གྲྭ་ག་ལ་ལ་རེད་ བིན་ལ་འཛིན་གྲྭ། ཨ།མར།',\n",
       "  6: 'ཨ་ནས་གན་ཚན་ནག་པ་ཁྱེལང་གོ།',\n",
       "  7: 'ྱུ་མ་ྱུང་རྱོ་ཡ་དགའ་་ཡོད་བ། ཨ། བྱུ་མ་ནང་རྒྱོ་ཡ་དག་ཡོད།།',\n",
       "  8: 'ང་ཚོ་ཉིས་ན་མ་རྩེད་མ་རྩོས་བསྡད་ཡོད་རཱ། སྔན་ད་གོང་།ཨ་ནས་ང་ཡོད་བ། ནང་ལ་ཡ་གཅིག་བྱུང་སོང་ད་རཱ།',\n",
       "  9: '་ཧྥི་ན་འུ་སུ་ཁ་ཀ་ཡི་ཟེར་གི་འདུག་་ཡང་ྱ་མི་ལ་ད་།'},\n",
       " 'url': {0: 'https://d38pmlk0v88drf.cloudfront.net/stt_pecha_tools/STT_CS-L-2017_2017-P_P-D_D-B01_B01-1_1-R_R-02_0017_131168_to_137073.wav',\n",
       "  1: 'https://d38pmlk0v88drf.cloudfront.net/stt_pecha_tools/STT_CS-D-2013-M-D-B01-0-R-03_0112_840110_to_846710.wav',\n",
       "  2: 'https://d38pmlk0v88drf.cloudfront.net/stt_pecha_tools/STT_CS-D-2016-P-D-B02-1-R-02_0089_775295_to_780520.wav',\n",
       "  3: 'https://d38pmlk0v88drf.cloudfront.net/stt_pecha_tools/STT_CS-L-2008_2010-P_P-D_D-B01_B01-6_6-R_R-01_0108_953694_to_958711.wav',\n",
       "  4: 'https://d38pmlk0v88drf.cloudfront.net/stt_pecha_tools/STT_CS-L-2013_2014-P_P-D_D-B03_B04-6_6-R_R-01_0006_47994_to_54032.wav',\n",
       "  5: 'https://d38pmlk0v88drf.cloudfront.net/stt_pecha_tools/STT_CS-L-2016_2017-P_P-D_D-B01_B01-1_1-R_R-01_0142_1080549_to_1087079.wav',\n",
       "  6: 'https://d38pmlk0v88drf.cloudfront.net/stt_pecha_tools/STT_CS-L-2012_2012-P_P-D_D-B04_B08-4_4-R_R-01_0029_661003_to_666059.wav',\n",
       "  7: 'https://d38pmlk0v88drf.cloudfront.net/stt_pecha_tools/STT_CS-L-2017_2017-M_M-D_D-B03_B04-2_2-R_R-01_0037_254035_to_259163.wav',\n",
       "  8: 'https://d38pmlk0v88drf.cloudfront.net/stt_pecha_tools/STT_CS-L-2013_2014-M_M-D_D-B03_B03-4_4-R_R-01_0095_784667_to_791407.wav',\n",
       "  9: 'https://d38pmlk0v88drf.cloudfront.net/stt_pecha_tools/STT_CS-L-2008_2010-P_P-D_D-B01_B01-6_6-R_R-01_0215_2211134_to_2214240.wav'}}"
      ]
     },
     "execution_count": 8,
     "metadata": {},
     "output_type": "execute_result"
    }
   ],
   "source": [
    "df[['inference_transcript','url']].iloc[0:10].to_dict()"
   ]
  },
  {
   "cell_type": "code",
   "execution_count": 9,
   "metadata": {},
   "outputs": [],
   "source": [
    "df['group_id'] = group_id\n",
    "df['state'] = 'imported'\n",
    "df['id'] = df.index + last_db_id + 1"
   ]
  },
  {
   "cell_type": "code",
   "execution_count": 10,
   "metadata": {},
   "outputs": [
    {
     "data": {
      "text/html": [
       "<div>\n",
       "<style scoped>\n",
       "    .dataframe tbody tr th:only-of-type {\n",
       "        vertical-align: middle;\n",
       "    }\n",
       "\n",
       "    .dataframe tbody tr th {\n",
       "        vertical-align: top;\n",
       "    }\n",
       "\n",
       "    .dataframe thead th {\n",
       "        text-align: right;\n",
       "    }\n",
       "</style>\n",
       "<table border=\"1\" class=\"dataframe\">\n",
       "  <thead>\n",
       "    <tr style=\"text-align: right;\">\n",
       "      <th></th>\n",
       "      <th>file_name</th>\n",
       "      <th>url</th>\n",
       "      <th>inference_transcript</th>\n",
       "      <th>audio_duration</th>\n",
       "      <th>group_id</th>\n",
       "      <th>state</th>\n",
       "      <th>id</th>\n",
       "    </tr>\n",
       "  </thead>\n",
       "  <tbody>\n",
       "    <tr>\n",
       "      <th>0</th>\n",
       "      <td>STT_CS-L-2017_2017-P_P-D_D-B01_B01-1_1-R_R-02_...</td>\n",
       "      <td>https://d38pmlk0v88drf.cloudfront.net/stt_pech...</td>\n",
       "      <td>ད་ཡི་ཡོང་ཁྱོད་ག་རེ་བྱེད་ཡིན། རཚེན་མན་ང་ཚོ་རྗེ་...</td>\n",
       "      <td>5.905</td>\n",
       "      <td>6</td>\n",
       "      <td>imported</td>\n",
       "      <td>430374</td>\n",
       "    </tr>\n",
       "    <tr>\n",
       "      <th>1</th>\n",
       "      <td>STT_CS-D-2013-M-D-B01-0-R-03_0112_840110_to_84...</td>\n",
       "      <td>https://d38pmlk0v88drf.cloudfront.net/stt_pech...</td>\n",
       "      <td>ཆུ་ཡག་པོ་ཟ་གི་འདུག་། ཨེ་ནས་ཁོ་གཟུགས་པོ་དི་ྡཨནས...</td>\n",
       "      <td>6.600</td>\n",
       "      <td>6</td>\n",
       "      <td>imported</td>\n",
       "      <td>430375</td>\n",
       "    </tr>\n",
       "    <tr>\n",
       "      <th>2</th>\n",
       "      <td>STT_CS-D-2016-P-D-B02-1-R-02_0089_775295_to_78...</td>\n",
       "      <td>https://d38pmlk0v88drf.cloudfront.net/stt_pech...</td>\n",
       "      <td>ཨ། ཨ། ཨེ་ནས་འདིི་སློབ་གྲྭ་ལ་བསདད་པས་ལབ་རེད་ད། ...</td>\n",
       "      <td>5.225</td>\n",
       "      <td>6</td>\n",
       "      <td>imported</td>\n",
       "      <td>430376</td>\n",
       "    </tr>\n",
       "    <tr>\n",
       "      <th>3</th>\n",
       "      <td>STT_CS-L-2008_2010-P_P-D_D-B01_B01-6_6-R_R-01_...</td>\n",
       "      <td>https://d38pmlk0v88drf.cloudfront.net/stt_pech...</td>\n",
       "      <td>ོ་་་ག་ལ་མགོ་།</td>\n",
       "      <td>5.017</td>\n",
       "      <td>6</td>\n",
       "      <td>imported</td>\n",
       "      <td>430377</td>\n",
       "    </tr>\n",
       "    <tr>\n",
       "      <th>4</th>\n",
       "      <td>STT_CS-L-2013_2014-P_P-D_D-B03_B04-6_6-R_R-01_...</td>\n",
       "      <td>https://d38pmlk0v88drf.cloudfront.net/stt_pech...</td>\n",
       "      <td>ཨེ་ནས། ཁོ་ཨ་ནསགཟིབ་པོ་འུ་ཙི་ཆུང་ཆུང་ཡོད་བསྡད་ཡ...</td>\n",
       "      <td>6.038</td>\n",
       "      <td>6</td>\n",
       "      <td>imported</td>\n",
       "      <td>430378</td>\n",
       "    </tr>\n",
       "  </tbody>\n",
       "</table>\n",
       "</div>"
      ],
      "text/plain": [
       "                                           file_name  \\\n",
       "0  STT_CS-L-2017_2017-P_P-D_D-B01_B01-1_1-R_R-02_...   \n",
       "1  STT_CS-D-2013-M-D-B01-0-R-03_0112_840110_to_84...   \n",
       "2  STT_CS-D-2016-P-D-B02-1-R-02_0089_775295_to_78...   \n",
       "3  STT_CS-L-2008_2010-P_P-D_D-B01_B01-6_6-R_R-01_...   \n",
       "4  STT_CS-L-2013_2014-P_P-D_D-B03_B04-6_6-R_R-01_...   \n",
       "\n",
       "                                                 url  \\\n",
       "0  https://d38pmlk0v88drf.cloudfront.net/stt_pech...   \n",
       "1  https://d38pmlk0v88drf.cloudfront.net/stt_pech...   \n",
       "2  https://d38pmlk0v88drf.cloudfront.net/stt_pech...   \n",
       "3  https://d38pmlk0v88drf.cloudfront.net/stt_pech...   \n",
       "4  https://d38pmlk0v88drf.cloudfront.net/stt_pech...   \n",
       "\n",
       "                                inference_transcript  audio_duration  \\\n",
       "0  ད་ཡི་ཡོང་ཁྱོད་ག་རེ་བྱེད་ཡིན། རཚེན་མན་ང་ཚོ་རྗེ་...           5.905   \n",
       "1  ཆུ་ཡག་པོ་ཟ་གི་འདུག་། ཨེ་ནས་ཁོ་གཟུགས་པོ་དི་ྡཨནས...           6.600   \n",
       "2  ཨ། ཨ། ཨེ་ནས་འདིི་སློབ་གྲྭ་ལ་བསདད་པས་ལབ་རེད་ད། ...           5.225   \n",
       "3                                      ོ་་་ག་ལ་མགོ་།           5.017   \n",
       "4  ཨེ་ནས། ཁོ་ཨ་ནསགཟིབ་པོ་འུ་ཙི་ཆུང་ཆུང་ཡོད་བསྡད་ཡ...           6.038   \n",
       "\n",
       "   group_id     state      id  \n",
       "0         6  imported  430374  \n",
       "1         6  imported  430375  \n",
       "2         6  imported  430376  \n",
       "3         6  imported  430377  \n",
       "4         6  imported  430378  "
      ]
     },
     "execution_count": 10,
     "metadata": {},
     "output_type": "execute_result"
    }
   ],
   "source": [
    "df.head()"
   ]
  },
  {
   "cell_type": "code",
   "execution_count": 11,
   "metadata": {},
   "outputs": [],
   "source": [
    "df['file_name'] = df['file_name'].str.replace(\".wav\", \"\")"
   ]
  },
  {
   "cell_type": "code",
   "execution_count": null,
   "metadata": {},
   "outputs": [],
   "source": [
    "urls = get_all_url()"
   ]
  },
  {
   "cell_type": "code",
   "execution_count": null,
   "metadata": {},
   "outputs": [],
   "source": [
    "df = df[~df['url'].isin(urls)]"
   ]
  },
  {
   "cell_type": "code",
   "execution_count": 38,
   "metadata": {},
   "outputs": [
    {
     "data": {
      "text/plain": [
       "28"
      ]
     },
     "execution_count": 38,
     "metadata": {},
     "output_type": "execute_result"
    }
   ],
   "source": [
    "# len('STT_CS-D-2017-P-D-B01-1-R-06')"
   ]
  },
  {
   "cell_type": "code",
   "execution_count": 39,
   "metadata": {},
   "outputs": [],
   "source": [
    "# df = df[df['file_name'].str[0:28] != 'STT_CS-D-2017-P-D-B01-1-R-06']"
   ]
  },
  {
   "cell_type": "code",
   "execution_count": 40,
   "metadata": {},
   "outputs": [],
   "source": [
    "df.to_csv(f\"segments_cs_{group_id}.csv\", index=False)"
   ]
  }
 ],
 "metadata": {
  "kernelspec": {
   "display_name": ".env",
   "language": "python",
   "name": "python3"
  },
  "language_info": {
   "codemirror_mode": {
    "name": "ipython",
    "version": 3
   },
   "file_extension": ".py",
   "mimetype": "text/x-python",
   "name": "python",
   "nbconvert_exporter": "python",
   "pygments_lexer": "ipython3",
   "version": "3.10.12"
  },
  "orig_nbformat": 4
 },
 "nbformat": 4,
 "nbformat_minor": 2
}
