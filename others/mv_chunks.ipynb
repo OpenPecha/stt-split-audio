{
 "cells": [
  {
   "cell_type": "code",
   "execution_count": 7,
   "metadata": {},
   "outputs": [
    {
     "data": {
      "text/plain": [
       "['/home/monlamai/Downloads/segments_mv_18_6.csv',\n",
       " '/home/monlamai/Downloads/segments_mv_18_7.csv',\n",
       " '/home/monlamai/Downloads/segments_mv_18_8.csv',\n",
       " '/home/monlamai/Downloads/segments_mv_18_9.csv']"
      ]
     },
     "execution_count": 7,
     "metadata": {},
     "output_type": "execute_result"
    }
   ],
   "source": [
    "mv_chunk_files = [f\"/home/monlamai/Downloads/segments_mv_18_{i}.csv\" for i in range(6,10)]\n",
    "mv_chunk_files"
   ]
  },
  {
   "cell_type": "code",
   "execution_count": 8,
   "metadata": {},
   "outputs": [],
   "source": [
    "import pandas as pd\n",
    "\n",
    "mv_chunk = pd.concat([pd.read_csv(f) for f in mv_chunk_files])"
   ]
  },
  {
   "cell_type": "code",
   "execution_count": 9,
   "metadata": {},
   "outputs": [
    {
     "data": {
      "text/html": [
       "<div>\n",
       "<style scoped>\n",
       "    .dataframe tbody tr th:only-of-type {\n",
       "        vertical-align: middle;\n",
       "    }\n",
       "\n",
       "    .dataframe tbody tr th {\n",
       "        vertical-align: top;\n",
       "    }\n",
       "\n",
       "    .dataframe thead th {\n",
       "        text-align: right;\n",
       "    }\n",
       "</style>\n",
       "<table border=\"1\" class=\"dataframe\">\n",
       "  <thead>\n",
       "    <tr style=\"text-align: right;\">\n",
       "      <th></th>\n",
       "      <th>transcript</th>\n",
       "      <th>file_name</th>\n",
       "      <th>url</th>\n",
       "      <th>audio_duration</th>\n",
       "      <th>group_id</th>\n",
       "      <th>state</th>\n",
       "      <th>transcriber_id</th>\n",
       "      <th>id</th>\n",
       "    </tr>\n",
       "  </thead>\n",
       "  <tbody>\n",
       "    <tr>\n",
       "      <th>0</th>\n",
       "      <td>འདི་འདྲས་སེ་བྱེད་དུས་ཁད་མཚར་ཞིག་འདུག ཨོ་ཧ་ཨོ།</td>\n",
       "      <td>STT_MV0807_0119_963185_to_969958</td>\n",
       "      <td>https://d38pmlk0v88drf.cloudfront.net/wav16k/S...</td>\n",
       "      <td>6.773</td>\n",
       "      <td>18</td>\n",
       "      <td>submitted</td>\n",
       "      <td>119</td>\n",
       "      <td>921418</td>\n",
       "    </tr>\n",
       "    <tr>\n",
       "      <th>1</th>\n",
       "      <td>ཨ་ཧ། ཨ་ཧ། ཨ། ཨ།</td>\n",
       "      <td>STT_MV0807_0120_969958_to_978295</td>\n",
       "      <td>https://d38pmlk0v88drf.cloudfront.net/wav16k/S...</td>\n",
       "      <td>8.337</td>\n",
       "      <td>18</td>\n",
       "      <td>submitted</td>\n",
       "      <td>119</td>\n",
       "      <td>921419</td>\n",
       "    </tr>\n",
       "    <tr>\n",
       "      <th>2</th>\n",
       "      <td>བུ། ཐན་ཧའ།</td>\n",
       "      <td>STT_MV0807_0121_987530_to_990882</td>\n",
       "      <td>https://d38pmlk0v88drf.cloudfront.net/wav16k/S...</td>\n",
       "      <td>3.352</td>\n",
       "      <td>18</td>\n",
       "      <td>submitted</td>\n",
       "      <td>119</td>\n",
       "      <td>921420</td>\n",
       "    </tr>\n",
       "    <tr>\n",
       "      <th>3</th>\n",
       "      <td>ད་འགྲོ་ས་ག་ནས་ཡིན་ན། ག་ནས་ཡིན་ན། ཐན་ཧའ། པཱ་ལགས...</td>\n",
       "      <td>STT_MV0807_0122_990882_to_1000721</td>\n",
       "      <td>https://d38pmlk0v88drf.cloudfront.net/wav16k/S...</td>\n",
       "      <td>9.839</td>\n",
       "      <td>18</td>\n",
       "      <td>submitted</td>\n",
       "      <td>119</td>\n",
       "      <td>921421</td>\n",
       "    </tr>\n",
       "    <tr>\n",
       "      <th>4</th>\n",
       "      <td>ཧི། ཧི། མིན། ང་འཁྱོལ་བ་མི་འདུག མིན། རང་གཡུག་བཞ...</td>\n",
       "      <td>STT_MV0807_0123_1000721_to_1010720</td>\n",
       "      <td>https://d38pmlk0v88drf.cloudfront.net/wav16k/S...</td>\n",
       "      <td>9.999</td>\n",
       "      <td>18</td>\n",
       "      <td>submitted</td>\n",
       "      <td>119</td>\n",
       "      <td>921422</td>\n",
       "    </tr>\n",
       "  </tbody>\n",
       "</table>\n",
       "</div>"
      ],
      "text/plain": [
       "                                          transcript  \\\n",
       "0     འདི་འདྲས་སེ་བྱེད་དུས་ཁད་མཚར་ཞིག་འདུག ཨོ་ཧ་ཨོ།    \n",
       "1                                   ཨ་ཧ། ཨ་ཧ། ཨ། ཨ།    \n",
       "2                                        བུ། ཐན་ཧའ།    \n",
       "3  ད་འགྲོ་ས་ག་ནས་ཡིན་ན། ག་ནས་ཡིན་ན། ཐན་ཧའ། པཱ་ལགས...   \n",
       "4  ཧི། ཧི། མིན། ང་འཁྱོལ་བ་མི་འདུག མིན། རང་གཡུག་བཞ...   \n",
       "\n",
       "                            file_name  \\\n",
       "0    STT_MV0807_0119_963185_to_969958   \n",
       "1    STT_MV0807_0120_969958_to_978295   \n",
       "2    STT_MV0807_0121_987530_to_990882   \n",
       "3   STT_MV0807_0122_990882_to_1000721   \n",
       "4  STT_MV0807_0123_1000721_to_1010720   \n",
       "\n",
       "                                                 url  audio_duration  \\\n",
       "0  https://d38pmlk0v88drf.cloudfront.net/wav16k/S...           6.773   \n",
       "1  https://d38pmlk0v88drf.cloudfront.net/wav16k/S...           8.337   \n",
       "2  https://d38pmlk0v88drf.cloudfront.net/wav16k/S...           3.352   \n",
       "3  https://d38pmlk0v88drf.cloudfront.net/wav16k/S...           9.839   \n",
       "4  https://d38pmlk0v88drf.cloudfront.net/wav16k/S...           9.999   \n",
       "\n",
       "   group_id      state  transcriber_id      id  \n",
       "0        18  submitted             119  921418  \n",
       "1        18  submitted             119  921419  \n",
       "2        18  submitted             119  921420  \n",
       "3        18  submitted             119  921421  \n",
       "4        18  submitted             119  921422  "
      ]
     },
     "execution_count": 9,
     "metadata": {},
     "output_type": "execute_result"
    }
   ],
   "source": [
    "mv_chunk.head()"
   ]
  },
  {
   "cell_type": "code",
   "execution_count": 10,
   "metadata": {},
   "outputs": [],
   "source": [
    "last_db_id = 1172118\n",
    "mv_chunk = mv_chunk.sort_values('file_name').reset_index(drop=True)\n",
    "mv_chunk['id'] = mv_chunk.index + last_db_id + 1"
   ]
  },
  {
   "cell_type": "code",
   "execution_count": 13,
   "metadata": {},
   "outputs": [
    {
     "data": {
      "text/plain": [
       "40000"
      ]
     },
     "execution_count": 13,
     "metadata": {},
     "output_type": "execute_result"
    }
   ],
   "source": [
    "len(mv_chunk)"
   ]
  },
  {
   "cell_type": "code",
   "execution_count": 12,
   "metadata": {},
   "outputs": [],
   "source": [
    "mv_chunk.to_csv('mv_chunks_6-9.csv', index=False)"
   ]
  }
 ],
 "metadata": {
  "kernelspec": {
   "display_name": ".env",
   "language": "python",
   "name": "python3"
  },
  "language_info": {
   "codemirror_mode": {
    "name": "ipython",
    "version": 3
   },
   "file_extension": ".py",
   "mimetype": "text/x-python",
   "name": "python",
   "nbconvert_exporter": "python",
   "pygments_lexer": "ipython3",
   "version": "3.10.12"
  }
 },
 "nbformat": 4,
 "nbformat_minor": 2
}
