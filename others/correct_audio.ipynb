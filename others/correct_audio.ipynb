{
 "cells": [
  {
   "cell_type": "code",
   "execution_count": null,
   "metadata": {},
   "outputs": [],
   "source": [
    "from pydub import AudioSegment\n",
    "\n",
    "# Replace 'your_corrupt_file.mp3' with the path to your file\n",
    "corrupt_file_path = '/media/monlamai/SSD/GitHub/split/STT_CS/full_audio/STT_CS-L-2014_2014-M_M-D_D-B04_B05-2_2-R_R-01.mp3'\n",
    "fixed_file_path =   '/media/monlamai/SSD/GitHub/split/STT_CS/full_audio/STT_CS-L-2014_2014-M_M-D_D-B04_B05-2_2-R_R-01.mp3'\n",
    "\n",
    "try:\n",
    "    # Load the possibly corrupt mp3 file\n",
    "    audio = AudioSegment.from_mp3(corrupt_file_path)\n",
    "\n",
    "    # Exporting it, which can sometimes fix issues\n",
    "    audio.export(fixed_file_path, format=\"mp3\")\n",
    "\n",
    "    print(\"File has been re-exported, check if issues are resolved.\")\n",
    "except Exception as e:\n",
    "    print(f\"An error occurred: {e}\")\n"
   ]
  }
 ],
 "metadata": {
  "language_info": {
   "name": "python"
  }
 },
 "nbformat": 4,
 "nbformat_minor": 2
}
