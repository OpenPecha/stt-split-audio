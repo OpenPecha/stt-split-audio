{
 "cells": [
  {
   "cell_type": "code",
   "execution_count": null,
   "metadata": {},
   "outputs": [],
   "source": [
    "import sys\n",
    "sys.path.append('../util')\n",
    "\n",
    "from util import read_spreadsheet\n",
    "from util import get_max_db_id\n",
    "from util import collect_segments\n",
    "from util import download_audio_gdrive"
   ]
  },
  {
   "cell_type": "code",
   "execution_count": 79,
   "metadata": {},
   "outputs": [],
   "source": [
    "tsv_location = \"/home/monlamai/Downloads/adata\""
   ]
  },
  {
   "cell_type": "code",
   "execution_count": 80,
   "metadata": {},
   "outputs": [],
   "source": [
    "group_ab_ga_id = 1\n",
    "group_ab_gb_id = 2\n",
    "group_ab_gc_id = 7"
   ]
  },
  {
   "cell_type": "code",
   "execution_count": 81,
   "metadata": {},
   "outputs": [],
   "source": [
    "import pandas as pd"
   ]
  },
  {
   "cell_type": "code",
   "execution_count": 82,
   "metadata": {},
   "outputs": [],
   "source": [
    "from pathlib import Path\n",
    "df_array = []\n",
    "for path in Path(tsv_location).rglob('*.tsv'):\n",
    "    # print(path)\n",
    "    df_temp = pd.read_csv(path, sep='\\t')\n",
    "    df_array.append(df_temp)\n",
    "df = pd.concat(df_array, ignore_index=True)"
   ]
  },
  {
   "cell_type": "code",
   "execution_count": 83,
   "metadata": {},
   "outputs": [
    {
     "data": {
      "text/plain": [
       "(8335, 6)"
      ]
     },
     "execution_count": 83,
     "metadata": {},
     "output_type": "execute_result"
    }
   ],
   "source": [
    "df.shape"
   ]
  },
  {
   "cell_type": "code",
   "execution_count": 84,
   "metadata": {},
   "outputs": [
    {
     "data": {
      "text/html": [
       "<div>\n",
       "<style scoped>\n",
       "    .dataframe tbody tr th:only-of-type {\n",
       "        vertical-align: middle;\n",
       "    }\n",
       "\n",
       "    .dataframe tbody tr th {\n",
       "        vertical-align: top;\n",
       "    }\n",
       "\n",
       "    .dataframe thead th {\n",
       "        text-align: right;\n",
       "    }\n",
       "</style>\n",
       "<table border=\"1\" class=\"dataframe\">\n",
       "  <thead>\n",
       "    <tr style=\"text-align: right;\">\n",
       "      <th></th>\n",
       "      <th>Unnamed: 0</th>\n",
       "      <th>file_name</th>\n",
       "      <th>url</th>\n",
       "      <th>inference_transcript</th>\n",
       "      <th>audio_duration</th>\n",
       "      <th>group</th>\n",
       "    </tr>\n",
       "  </thead>\n",
       "  <tbody>\n",
       "    <tr>\n",
       "      <th>0</th>\n",
       "      <td>0</td>\n",
       "      <td>STT_AB00609_0144_816749_to_825435</td>\n",
       "      <td>https://d38pmlk0v88drf.cloudfront.net/stt_pech...</td>\n",
       "      <td>14 ཞེ་འཁམ་པ་ནི་ཞེ་ལ་བརྩུབ་པའི་སེམས་ཀར་ཀར་བ་སྟེ...</td>\n",
       "      <td>8.686</td>\n",
       "      <td>STTAB00609</td>\n",
       "    </tr>\n",
       "    <tr>\n",
       "      <th>1</th>\n",
       "      <td>98</td>\n",
       "      <td>STT_AB00609_0056_313319_to_317022</td>\n",
       "      <td>https://d38pmlk0v88drf.cloudfront.net/stt_pech...</td>\n",
       "      <td>ར་མ་ཟད་འཇིག་རྟེན་ཕ་རོལ་གྱི་དོན་དང་ཡང་ནི་</td>\n",
       "      <td>3.703</td>\n",
       "      <td>STTAB00609</td>\n",
       "    </tr>\n",
       "    <tr>\n",
       "      <th>2</th>\n",
       "      <td>313</td>\n",
       "      <td>STT_AB00609_0096_546646_to_550179</td>\n",
       "      <td>https://d38pmlk0v88drf.cloudfront.net/stt_pech...</td>\n",
       "      <td>འགལ་བར་འགྱུར་ཏེ།ཁོང་ཁྲོ་ལ་སྐབས་བྱིན་པས་ཤི་བའི་...</td>\n",
       "      <td>3.533</td>\n",
       "      <td>STTAB00609</td>\n",
       "    </tr>\n",
       "    <tr>\n",
       "      <th>3</th>\n",
       "      <td>321</td>\n",
       "      <td>STT_AB00609_0121_687226_to_692329</td>\n",
       "      <td>https://d38pmlk0v88drf.cloudfront.net/stt_pech...</td>\n",
       "      <td>ད་དུ་མི་འོང་བ་འཕེན་པའི་ཕྱིར་རོ།ᨎགཉིས་པ།ཕྱིས་ཀྱ...</td>\n",
       "      <td>5.103</td>\n",
       "      <td>STTAB00609</td>\n",
       "    </tr>\n",
       "    <tr>\n",
       "      <th>4</th>\n",
       "      <td>357</td>\n",
       "      <td>STT_AB00609_0015_90008_to_94513</td>\n",
       "      <td>https://d38pmlk0v88drf.cloudfront.net/stt_pech...</td>\n",
       "      <td>སྔལ་མི་འདོད་པ་དང་གནོད་ལན་བྱེད་པ་གཉིས་འགལ་བར་བསྟ</td>\n",
       "      <td>4.505</td>\n",
       "      <td>STTAB00609</td>\n",
       "    </tr>\n",
       "  </tbody>\n",
       "</table>\n",
       "</div>"
      ],
      "text/plain": [
       "   Unnamed: 0                          file_name  \\\n",
       "0           0  STT_AB00609_0144_816749_to_825435   \n",
       "1          98  STT_AB00609_0056_313319_to_317022   \n",
       "2         313  STT_AB00609_0096_546646_to_550179   \n",
       "3         321  STT_AB00609_0121_687226_to_692329   \n",
       "4         357    STT_AB00609_0015_90008_to_94513   \n",
       "\n",
       "                                                 url  \\\n",
       "0  https://d38pmlk0v88drf.cloudfront.net/stt_pech...   \n",
       "1  https://d38pmlk0v88drf.cloudfront.net/stt_pech...   \n",
       "2  https://d38pmlk0v88drf.cloudfront.net/stt_pech...   \n",
       "3  https://d38pmlk0v88drf.cloudfront.net/stt_pech...   \n",
       "4  https://d38pmlk0v88drf.cloudfront.net/stt_pech...   \n",
       "\n",
       "                                inference_transcript  audio_duration  \\\n",
       "0  14 ཞེ་འཁམ་པ་ནི་ཞེ་ལ་བརྩུབ་པའི་སེམས་ཀར་ཀར་བ་སྟེ...           8.686   \n",
       "1           ར་མ་ཟད་འཇིག་རྟེན་ཕ་རོལ་གྱི་དོན་དང་ཡང་ནི་           3.703   \n",
       "2  འགལ་བར་འགྱུར་ཏེ།ཁོང་ཁྲོ་ལ་སྐབས་བྱིན་པས་ཤི་བའི་...           3.533   \n",
       "3  ད་དུ་མི་འོང་བ་འཕེན་པའི་ཕྱིར་རོ།ᨎགཉིས་པ།ཕྱིས་ཀྱ...           5.103   \n",
       "4    སྔལ་མི་འདོད་པ་དང་གནོད་ལན་བྱེད་པ་གཉིས་འགལ་བར་བསྟ           4.505   \n",
       "\n",
       "        group  \n",
       "0  STTAB00609  \n",
       "1  STTAB00609  \n",
       "2  STTAB00609  \n",
       "3  STTAB00609  \n",
       "4  STTAB00609  "
      ]
     },
     "execution_count": 84,
     "metadata": {},
     "output_type": "execute_result"
    }
   ],
   "source": [
    "df.head()"
   ]
  },
  {
   "cell_type": "code",
   "execution_count": 85,
   "metadata": {},
   "outputs": [],
   "source": [
    "df['group_id'] = group_ab_ga_id"
   ]
  },
  {
   "cell_type": "code",
   "execution_count": 86,
   "metadata": {},
   "outputs": [],
   "source": [
    "df['state'] = 'imported'"
   ]
  },
  {
   "cell_type": "code",
   "execution_count": 87,
   "metadata": {},
   "outputs": [],
   "source": [
    "df.fillna('', inplace=True)"
   ]
  },
  {
   "cell_type": "code",
   "execution_count": 88,
   "metadata": {},
   "outputs": [],
   "source": [
    "def filter_length(st):\n",
    "    return len(st) < 500"
   ]
  },
  {
   "cell_type": "code",
   "execution_count": 89,
   "metadata": {},
   "outputs": [],
   "source": [
    "df = df[df['inference_transcript'].apply(lambda x: len(x) < 500)]"
   ]
  },
  {
   "cell_type": "code",
   "execution_count": 91,
   "metadata": {},
   "outputs": [
    {
     "data": {
      "text/html": [
       "<div>\n",
       "<style scoped>\n",
       "    .dataframe tbody tr th:only-of-type {\n",
       "        vertical-align: middle;\n",
       "    }\n",
       "\n",
       "    .dataframe tbody tr th {\n",
       "        vertical-align: top;\n",
       "    }\n",
       "\n",
       "    .dataframe thead th {\n",
       "        text-align: right;\n",
       "    }\n",
       "</style>\n",
       "<table border=\"1\" class=\"dataframe\">\n",
       "  <thead>\n",
       "    <tr style=\"text-align: right;\">\n",
       "      <th></th>\n",
       "      <th>Unnamed: 0</th>\n",
       "      <th>file_name</th>\n",
       "      <th>url</th>\n",
       "      <th>inference_transcript</th>\n",
       "      <th>audio_duration</th>\n",
       "      <th>group</th>\n",
       "      <th>group_id</th>\n",
       "      <th>state</th>\n",
       "    </tr>\n",
       "  </thead>\n",
       "  <tbody>\n",
       "    <tr>\n",
       "      <th>0</th>\n",
       "      <td>0</td>\n",
       "      <td>STT_AB00609_0144_816749_to_825435</td>\n",
       "      <td>https://d38pmlk0v88drf.cloudfront.net/stt_pech...</td>\n",
       "      <td>14 ཞེ་འཁམ་པ་ནི་ཞེ་ལ་བརྩུབ་པའི་སེམས་ཀར་ཀར་བ་སྟེ...</td>\n",
       "      <td>8.686</td>\n",
       "      <td>STTAB00609</td>\n",
       "      <td>1</td>\n",
       "      <td>imported</td>\n",
       "    </tr>\n",
       "    <tr>\n",
       "      <th>1</th>\n",
       "      <td>98</td>\n",
       "      <td>STT_AB00609_0056_313319_to_317022</td>\n",
       "      <td>https://d38pmlk0v88drf.cloudfront.net/stt_pech...</td>\n",
       "      <td>ར་མ་ཟད་འཇིག་རྟེན་ཕ་རོལ་གྱི་དོན་དང་ཡང་ནི་</td>\n",
       "      <td>3.703</td>\n",
       "      <td>STTAB00609</td>\n",
       "      <td>1</td>\n",
       "      <td>imported</td>\n",
       "    </tr>\n",
       "    <tr>\n",
       "      <th>2</th>\n",
       "      <td>313</td>\n",
       "      <td>STT_AB00609_0096_546646_to_550179</td>\n",
       "      <td>https://d38pmlk0v88drf.cloudfront.net/stt_pech...</td>\n",
       "      <td>འགལ་བར་འགྱུར་ཏེ།ཁོང་ཁྲོ་ལ་སྐབས་བྱིན་པས་ཤི་བའི་...</td>\n",
       "      <td>3.533</td>\n",
       "      <td>STTAB00609</td>\n",
       "      <td>1</td>\n",
       "      <td>imported</td>\n",
       "    </tr>\n",
       "    <tr>\n",
       "      <th>3</th>\n",
       "      <td>321</td>\n",
       "      <td>STT_AB00609_0121_687226_to_692329</td>\n",
       "      <td>https://d38pmlk0v88drf.cloudfront.net/stt_pech...</td>\n",
       "      <td>ད་དུ་མི་འོང་བ་འཕེན་པའི་ཕྱིར་རོ།ᨎགཉིས་པ།ཕྱིས་ཀྱ...</td>\n",
       "      <td>5.103</td>\n",
       "      <td>STTAB00609</td>\n",
       "      <td>1</td>\n",
       "      <td>imported</td>\n",
       "    </tr>\n",
       "    <tr>\n",
       "      <th>4</th>\n",
       "      <td>357</td>\n",
       "      <td>STT_AB00609_0015_90008_to_94513</td>\n",
       "      <td>https://d38pmlk0v88drf.cloudfront.net/stt_pech...</td>\n",
       "      <td>སྔལ་མི་འདོད་པ་དང་གནོད་ལན་བྱེད་པ་གཉིས་འགལ་བར་བསྟ</td>\n",
       "      <td>4.505</td>\n",
       "      <td>STTAB00609</td>\n",
       "      <td>1</td>\n",
       "      <td>imported</td>\n",
       "    </tr>\n",
       "  </tbody>\n",
       "</table>\n",
       "</div>"
      ],
      "text/plain": [
       "   Unnamed: 0                          file_name  \\\n",
       "0           0  STT_AB00609_0144_816749_to_825435   \n",
       "1          98  STT_AB00609_0056_313319_to_317022   \n",
       "2         313  STT_AB00609_0096_546646_to_550179   \n",
       "3         321  STT_AB00609_0121_687226_to_692329   \n",
       "4         357    STT_AB00609_0015_90008_to_94513   \n",
       "\n",
       "                                                 url  \\\n",
       "0  https://d38pmlk0v88drf.cloudfront.net/stt_pech...   \n",
       "1  https://d38pmlk0v88drf.cloudfront.net/stt_pech...   \n",
       "2  https://d38pmlk0v88drf.cloudfront.net/stt_pech...   \n",
       "3  https://d38pmlk0v88drf.cloudfront.net/stt_pech...   \n",
       "4  https://d38pmlk0v88drf.cloudfront.net/stt_pech...   \n",
       "\n",
       "                                inference_transcript  audio_duration  \\\n",
       "0  14 ཞེ་འཁམ་པ་ནི་ཞེ་ལ་བརྩུབ་པའི་སེམས་ཀར་ཀར་བ་སྟེ...           8.686   \n",
       "1           ར་མ་ཟད་འཇིག་རྟེན་ཕ་རོལ་གྱི་དོན་དང་ཡང་ནི་           3.703   \n",
       "2  འགལ་བར་འགྱུར་ཏེ།ཁོང་ཁྲོ་ལ་སྐབས་བྱིན་པས་ཤི་བའི་...           3.533   \n",
       "3  ད་དུ་མི་འོང་བ་འཕེན་པའི་ཕྱིར་རོ།ᨎགཉིས་པ།ཕྱིས་ཀྱ...           5.103   \n",
       "4    སྔལ་མི་འདོད་པ་དང་གནོད་ལན་བྱེད་པ་གཉིས་འགལ་བར་བསྟ           4.505   \n",
       "\n",
       "        group  group_id     state  \n",
       "0  STTAB00609         1  imported  \n",
       "1  STTAB00609         1  imported  \n",
       "2  STTAB00609         1  imported  \n",
       "3  STTAB00609         1  imported  \n",
       "4  STTAB00609         1  imported  "
      ]
     },
     "execution_count": 91,
     "metadata": {},
     "output_type": "execute_result"
    }
   ],
   "source": [
    "df.head()"
   ]
  },
  {
   "cell_type": "code",
   "execution_count": 92,
   "metadata": {},
   "outputs": [
    {
     "name": "stdout",
     "output_type": "stream",
     "text": [
      "The maximum ID in the 'Task' table is: 420828\n"
     ]
    }
   ],
   "source": [
    "last_db_id = get_max_db_id()\n",
    "\n",
    "id_arr = list(range(last_db_id + 1, df.shape[0] + last_db_id + 1))\n",
    "\n",
    "df['id'] = id_arr"
   ]
  },
  {
   "cell_type": "code",
   "execution_count": 93,
   "metadata": {},
   "outputs": [],
   "source": [
    "df = df[['id', 'group_id', 'file_name', 'url', 'inference_transcript', 'audio_duration', 'state']]"
   ]
  },
  {
   "cell_type": "code",
   "execution_count": 94,
   "metadata": {},
   "outputs": [
    {
     "data": {
      "text/plain": [
       "(8334, 7)"
      ]
     },
     "execution_count": 94,
     "metadata": {},
     "output_type": "execute_result"
    }
   ],
   "source": [
    "df.shape"
   ]
  },
  {
   "cell_type": "code",
   "execution_count": 96,
   "metadata": {},
   "outputs": [
    {
     "data": {
      "text/plain": [
       "array(['STT_AB00609', 'STT_AB00608', 'STT_AB00614', 'STT_AB00596',\n",
       "       'STT_AB00636', 'STT_AB00627', 'STT_AB00610', 'STT_AB00617',\n",
       "       'STT_AB00630', 'STT_AB00602', 'STT_AB00615', 'STT_AB00639',\n",
       "       'STT_AB00607', 'STT_AB00629', 'STT_AB00632', 'STT_AB00601',\n",
       "       'STT_AB00642', 'STT_AB00628', 'STT_AB00599', 'STT_AB00611',\n",
       "       'STT_AB00622', 'STT_AB00624', 'STT_AB00631', 'STT_AB00634',\n",
       "       'STT_AB00626', 'STT_AB00641', 'STT_AB00605', 'STT_AB00638',\n",
       "       'STT_AB00640', 'STT_AB00618', 'STT_AB00597', 'STT_AB00643',\n",
       "       'STT_AB00613', 'STT_AB00625', 'STT_AB00612', 'STT_AB00598',\n",
       "       'STT_AB00635', 'STT_AB00637', 'STT_AB00606', 'STT_AB00633',\n",
       "       'STT_AB00600', 'STT_AB00604'], dtype=object)"
      ]
     },
     "execution_count": 96,
     "metadata": {},
     "output_type": "execute_result"
    }
   ],
   "source": [
    "df['file_name'].str[0:11].unique()"
   ]
  },
  {
   "cell_type": "code",
   "execution_count": 97,
   "metadata": {},
   "outputs": [],
   "source": [
    "df.to_csv('stt_ab_ga.csv', index=False)"
   ]
  },
  {
   "cell_type": "code",
   "execution_count": 98,
   "metadata": {},
   "outputs": [],
   "source": [
    "import pandas as pd\n",
    "df = pd.read_csv('stt_ab_from_gdrive.tsv', sep='\\t')"
   ]
  },
  {
   "cell_type": "code",
   "execution_count": 99,
   "metadata": {},
   "outputs": [
    {
     "data": {
      "text/html": [
       "<div>\n",
       "<style scoped>\n",
       "    .dataframe tbody tr th:only-of-type {\n",
       "        vertical-align: middle;\n",
       "    }\n",
       "\n",
       "    .dataframe tbody tr th {\n",
       "        vertical-align: top;\n",
       "    }\n",
       "\n",
       "    .dataframe thead th {\n",
       "        text-align: right;\n",
       "    }\n",
       "</style>\n",
       "<table border=\"1\" class=\"dataframe\">\n",
       "  <thead>\n",
       "    <tr style=\"text-align: right;\">\n",
       "      <th></th>\n",
       "      <th>file_name</th>\n",
       "      <th>url</th>\n",
       "      <th>inference_transcript</th>\n",
       "      <th>audio_duration</th>\n",
       "    </tr>\n",
       "  </thead>\n",
       "  <tbody>\n",
       "    <tr>\n",
       "      <th>0</th>\n",
       "      <td>STT_AB00609_0144_816749_to_825435</td>\n",
       "      <td>https://d38pmlk0v88drf.cloudfront.net/stt_pech...</td>\n",
       "      <td>གཉིས་པའི་དོན་ཀྱང་སེམས་བསྐྱེད་ལ་བརྟེན་ནས། ལས་ཉོ...</td>\n",
       "      <td>8.686</td>\n",
       "    </tr>\n",
       "    <tr>\n",
       "      <th>1</th>\n",
       "      <td>STT_AB00611_0008_40213_to_45332</td>\n",
       "      <td>https://d38pmlk0v88drf.cloudfront.net/stt_pech...</td>\n",
       "      <td>བརྩོན་འགྲུས་དང་། དྲན་པ་དང་། ཏིང་ངེ་འཛིན་དང་། ཤ...</td>\n",
       "      <td>5.119</td>\n",
       "    </tr>\n",
       "    <tr>\n",
       "      <th>2</th>\n",
       "      <td>STT_AB00619_0144_804991_to_808558</td>\n",
       "      <td>https://d38pmlk0v88drf.cloudfront.net/stt_pech...</td>\n",
       "      <td>བློའི་ཡུལ་ཀུན་རྫོབ་པར་འདོད་པའི་དོན་དེ་བཞིན་དུ་...</td>\n",
       "      <td>3.567</td>\n",
       "    </tr>\n",
       "    <tr>\n",
       "      <th>3</th>\n",
       "      <td>STT_AB00604_0095_556646_to_565110</td>\n",
       "      <td>https://d38pmlk0v88drf.cloudfront.net/stt_pech...</td>\n",
       "      <td>ཐེག་དམན་གྱི་མདོར་ཆོས་ཐམས་ཅད་བདག་མེད་པར་གསུང་པའ...</td>\n",
       "      <td>8.464</td>\n",
       "    </tr>\n",
       "    <tr>\n",
       "      <th>4</th>\n",
       "      <td>STT_AB00629_0188_1092261_to_1099513</td>\n",
       "      <td>https://d38pmlk0v88drf.cloudfront.net/stt_pech...</td>\n",
       "      <td>གླང་པོ་ཆེ་ལ་སོགས་པའི་གཟུགས་མིག་གི་སྐྱེད་སྤྱེད་...</td>\n",
       "      <td>7.252</td>\n",
       "    </tr>\n",
       "  </tbody>\n",
       "</table>\n",
       "</div>"
      ],
      "text/plain": [
       "                             file_name  \\\n",
       "0    STT_AB00609_0144_816749_to_825435   \n",
       "1      STT_AB00611_0008_40213_to_45332   \n",
       "2    STT_AB00619_0144_804991_to_808558   \n",
       "3    STT_AB00604_0095_556646_to_565110   \n",
       "4  STT_AB00629_0188_1092261_to_1099513   \n",
       "\n",
       "                                                 url  \\\n",
       "0  https://d38pmlk0v88drf.cloudfront.net/stt_pech...   \n",
       "1  https://d38pmlk0v88drf.cloudfront.net/stt_pech...   \n",
       "2  https://d38pmlk0v88drf.cloudfront.net/stt_pech...   \n",
       "3  https://d38pmlk0v88drf.cloudfront.net/stt_pech...   \n",
       "4  https://d38pmlk0v88drf.cloudfront.net/stt_pech...   \n",
       "\n",
       "                                inference_transcript  audio_duration  \n",
       "0  གཉིས་པའི་དོན་ཀྱང་སེམས་བསྐྱེད་ལ་བརྟེན་ནས། ལས་ཉོ...           8.686  \n",
       "1  བརྩོན་འགྲུས་དང་། དྲན་པ་དང་། ཏིང་ངེ་འཛིན་དང་། ཤ...           5.119  \n",
       "2  བློའི་ཡུལ་ཀུན་རྫོབ་པར་འདོད་པའི་དོན་དེ་བཞིན་དུ་...           3.567  \n",
       "3  ཐེག་དམན་གྱི་མདོར་ཆོས་ཐམས་ཅད་བདག་མེད་པར་གསུང་པའ...           8.464  \n",
       "4  གླང་པོ་ཆེ་ལ་སོགས་པའི་གཟུགས་མིག་གི་སྐྱེད་སྤྱེད་...           7.252  "
      ]
     },
     "execution_count": 99,
     "metadata": {},
     "output_type": "execute_result"
    }
   ],
   "source": [
    "df.head()"
   ]
  },
  {
   "cell_type": "code",
   "execution_count": 100,
   "metadata": {},
   "outputs": [
    {
     "name": "stdout",
     "output_type": "stream",
     "text": [
      "The maximum ID in the 'Task' table is: 420928\n"
     ]
    }
   ],
   "source": [
    "last_db_id = get_max_db_id()\n",
    "\n",
    "id_arr = list(range(last_db_id + 1, df.shape[0] + last_db_id + 1))\n",
    "\n",
    "df['id'] = id_arr"
   ]
  },
  {
   "cell_type": "code",
   "execution_count": 101,
   "metadata": {},
   "outputs": [],
   "source": [
    "df['state'] = 'imported'\n",
    "df['group_id'] = group_ab_ga_id"
   ]
  },
  {
   "cell_type": "code",
   "execution_count": 103,
   "metadata": {},
   "outputs": [
    {
     "data": {
      "text/html": [
       "<div>\n",
       "<style scoped>\n",
       "    .dataframe tbody tr th:only-of-type {\n",
       "        vertical-align: middle;\n",
       "    }\n",
       "\n",
       "    .dataframe tbody tr th {\n",
       "        vertical-align: top;\n",
       "    }\n",
       "\n",
       "    .dataframe thead th {\n",
       "        text-align: right;\n",
       "    }\n",
       "</style>\n",
       "<table border=\"1\" class=\"dataframe\">\n",
       "  <thead>\n",
       "    <tr style=\"text-align: right;\">\n",
       "      <th></th>\n",
       "      <th>file_name</th>\n",
       "      <th>url</th>\n",
       "      <th>inference_transcript</th>\n",
       "      <th>audio_duration</th>\n",
       "      <th>id</th>\n",
       "      <th>state</th>\n",
       "      <th>group_id</th>\n",
       "    </tr>\n",
       "  </thead>\n",
       "  <tbody>\n",
       "    <tr>\n",
       "      <th>0</th>\n",
       "      <td>STT_AB00609_0144_816749_to_825435</td>\n",
       "      <td>https://d38pmlk0v88drf.cloudfront.net/stt_pech...</td>\n",
       "      <td>གཉིས་པའི་དོན་ཀྱང་སེམས་བསྐྱེད་ལ་བརྟེན་ནས། ལས་ཉོ...</td>\n",
       "      <td>8.686</td>\n",
       "      <td>420929</td>\n",
       "      <td>imported</td>\n",
       "      <td>1</td>\n",
       "    </tr>\n",
       "    <tr>\n",
       "      <th>1</th>\n",
       "      <td>STT_AB00611_0008_40213_to_45332</td>\n",
       "      <td>https://d38pmlk0v88drf.cloudfront.net/stt_pech...</td>\n",
       "      <td>བརྩོན་འགྲུས་དང་། དྲན་པ་དང་། ཏིང་ངེ་འཛིན་དང་། ཤ...</td>\n",
       "      <td>5.119</td>\n",
       "      <td>420930</td>\n",
       "      <td>imported</td>\n",
       "      <td>1</td>\n",
       "    </tr>\n",
       "    <tr>\n",
       "      <th>2</th>\n",
       "      <td>STT_AB00619_0144_804991_to_808558</td>\n",
       "      <td>https://d38pmlk0v88drf.cloudfront.net/stt_pech...</td>\n",
       "      <td>བློའི་ཡུལ་ཀུན་རྫོབ་པར་འདོད་པའི་དོན་དེ་བཞིན་དུ་...</td>\n",
       "      <td>3.567</td>\n",
       "      <td>420931</td>\n",
       "      <td>imported</td>\n",
       "      <td>1</td>\n",
       "    </tr>\n",
       "    <tr>\n",
       "      <th>3</th>\n",
       "      <td>STT_AB00604_0095_556646_to_565110</td>\n",
       "      <td>https://d38pmlk0v88drf.cloudfront.net/stt_pech...</td>\n",
       "      <td>ཐེག་དམན་གྱི་མདོར་ཆོས་ཐམས་ཅད་བདག་མེད་པར་གསུང་པའ...</td>\n",
       "      <td>8.464</td>\n",
       "      <td>420932</td>\n",
       "      <td>imported</td>\n",
       "      <td>1</td>\n",
       "    </tr>\n",
       "    <tr>\n",
       "      <th>4</th>\n",
       "      <td>STT_AB00629_0188_1092261_to_1099513</td>\n",
       "      <td>https://d38pmlk0v88drf.cloudfront.net/stt_pech...</td>\n",
       "      <td>གླང་པོ་ཆེ་ལ་སོགས་པའི་གཟུགས་མིག་གི་སྐྱེད་སྤྱེད་...</td>\n",
       "      <td>7.252</td>\n",
       "      <td>420933</td>\n",
       "      <td>imported</td>\n",
       "      <td>1</td>\n",
       "    </tr>\n",
       "  </tbody>\n",
       "</table>\n",
       "</div>"
      ],
      "text/plain": [
       "                             file_name  \\\n",
       "0    STT_AB00609_0144_816749_to_825435   \n",
       "1      STT_AB00611_0008_40213_to_45332   \n",
       "2    STT_AB00619_0144_804991_to_808558   \n",
       "3    STT_AB00604_0095_556646_to_565110   \n",
       "4  STT_AB00629_0188_1092261_to_1099513   \n",
       "\n",
       "                                                 url  \\\n",
       "0  https://d38pmlk0v88drf.cloudfront.net/stt_pech...   \n",
       "1  https://d38pmlk0v88drf.cloudfront.net/stt_pech...   \n",
       "2  https://d38pmlk0v88drf.cloudfront.net/stt_pech...   \n",
       "3  https://d38pmlk0v88drf.cloudfront.net/stt_pech...   \n",
       "4  https://d38pmlk0v88drf.cloudfront.net/stt_pech...   \n",
       "\n",
       "                                inference_transcript  audio_duration      id  \\\n",
       "0  གཉིས་པའི་དོན་ཀྱང་སེམས་བསྐྱེད་ལ་བརྟེན་ནས། ལས་ཉོ...           8.686  420929   \n",
       "1  བརྩོན་འགྲུས་དང་། དྲན་པ་དང་། ཏིང་ངེ་འཛིན་དང་། ཤ...           5.119  420930   \n",
       "2  བློའི་ཡུལ་ཀུན་རྫོབ་པར་འདོད་པའི་དོན་དེ་བཞིན་དུ་...           3.567  420931   \n",
       "3  ཐེག་དམན་གྱི་མདོར་ཆོས་ཐམས་ཅད་བདག་མེད་པར་གསུང་པའ...           8.464  420932   \n",
       "4  གླང་པོ་ཆེ་ལ་སོགས་པའི་གཟུགས་མིག་གི་སྐྱེད་སྤྱེད་...           7.252  420933   \n",
       "\n",
       "      state  group_id  \n",
       "0  imported         1  \n",
       "1  imported         1  \n",
       "2  imported         1  \n",
       "3  imported         1  \n",
       "4  imported         1  "
      ]
     },
     "execution_count": 103,
     "metadata": {},
     "output_type": "execute_result"
    }
   ],
   "source": [
    "df.head()"
   ]
  },
  {
   "cell_type": "code",
   "execution_count": 104,
   "metadata": {},
   "outputs": [],
   "source": [
    "df.to_csv('stt_ab_ga_not_transfered.csv', index=False)"
   ]
  }
 ],
 "metadata": {
  "kernelspec": {
   "display_name": ".env",
   "language": "python",
   "name": "python3"
  },
  "language_info": {
   "codemirror_mode": {
    "name": "ipython",
    "version": 3
   },
   "file_extension": ".py",
   "mimetype": "text/x-python",
   "name": "python",
   "nbconvert_exporter": "python",
   "pygments_lexer": "ipython3",
   "version": "3.10.12"
  }
 },
 "nbformat": 4,
 "nbformat_minor": 2
}
