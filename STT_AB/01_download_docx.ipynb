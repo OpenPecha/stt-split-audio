{
 "cells": [
  {
   "cell_type": "code",
   "execution_count": 1,
   "metadata": {},
   "outputs": [
    {
     "name": "stderr",
     "output_type": "stream",
     "text": [
      "torchvision is not available - cannot save figures\n"
     ]
    }
   ],
   "source": [
    "import sys\n",
    "sys.path.append('../util')\n",
    "\n",
    "from util import read_spreadsheet\n",
    "from util import get_max_db_id"
   ]
  },
  {
   "cell_type": "code",
   "execution_count": 2,
   "metadata": {},
   "outputs": [],
   "source": [
    "import os\n",
    "import gdown\n",
    "from docx import Document\n",
    "\n",
    "def docx_to_txt(docx_path):\n",
    "        doc = Document(docx_path)\n",
    "        fullText = []\n",
    "        for para in doc.paragraphs:\n",
    "            fullText.append(para.text)\n",
    "        return '\\n'.join(fullText)\n",
    "\n",
    "def download_etext(gd_url,file_name):\n",
    "    if not os.path.exists('etexts'):\n",
    "        os.makedirs('etexts')\n",
    "\n",
    "    if not os.path.exists('docx'):\n",
    "        os.makedirs('docx')\n",
    "    \n",
    "    if os.path.exists(f'etexts/{file_name}.txt'):\n",
    "        return\n",
    "    docx_url, _ = os.path.split(gd_url)\n",
    "    docx_url = os.path.join(docx_url, 'export?format=docx')\n",
    "    docx_path = gdown.download(docx_url, output=f'docx/{file_name}.docx', quiet=False, fuzzy=True)\n",
    "    # Convert the .docx file to text\n",
    "    text = docx_to_txt(docx_path)\n",
    "    # Create a .txt path with the same name as the .docx file\n",
    "    txt_path = os.path.join('etexts/', file_name + '.txt')\n",
    "    # Save the text to a .txt file\n",
    "    with open(txt_path, 'w',encoding='utf-8') as f:\n",
    "        f.write(text.replace('\\n', ' '))"
   ]
  },
  {
   "cell_type": "code",
   "execution_count": 3,
   "metadata": {},
   "outputs": [
    {
     "name": "stdout",
     "output_type": "stream",
     "text": [
      "STT_AB00645 https://docs.google.com/document/d/1ALjm6_fMFGSgWS6NuZ6VLHDA87gsaE7oSONMk82iBiI/edit 645.0\n"
     ]
    },
    {
     "name": "stderr",
     "output_type": "stream",
     "text": [
      "Downloading...\n",
      "From: https://docs.google.com/document/d/1ALjm6_fMFGSgWS6NuZ6VLHDA87gsaE7oSONMk82iBiI/export?format=docx\n",
      "To: /media/monlamai/SSD/GitHub/stt-split-audio/STT_AB/docx/STT_AB00645.docx\n",
      "8.12kB [00:00, 142kB/s]\n"
     ]
    },
    {
     "name": "stdout",
     "output_type": "stream",
     "text": [
      "STT_AB00646 https://docs.google.com/document/d/1EVyXaO9k-SOF445Vlf1hzJmbTadw6z1UJgQceUAsLuc/edit 646.0\n"
     ]
    },
    {
     "name": "stderr",
     "output_type": "stream",
     "text": [
      "Downloading...\n",
      "From: https://docs.google.com/document/d/1EVyXaO9k-SOF445Vlf1hzJmbTadw6z1UJgQceUAsLuc/export?format=docx\n",
      "To: /media/monlamai/SSD/GitHub/stt-split-audio/STT_AB/docx/STT_AB00646.docx\n",
      "10.5kB [00:00, 144kB/s]\n"
     ]
    },
    {
     "name": "stdout",
     "output_type": "stream",
     "text": [
      "STT_AB00647 https://docs.google.com/document/d/1EEhhLJTR3B6ZgKHelNjxWWMhf6lqIXvLM2toQU53tA0/edit?usp=sharing 647.0\n"
     ]
    },
    {
     "name": "stderr",
     "output_type": "stream",
     "text": [
      "Downloading...\n",
      "From: https://docs.google.com/document/d/1EEhhLJTR3B6ZgKHelNjxWWMhf6lqIXvLM2toQU53tA0/export?format=docx\n",
      "To: /media/monlamai/SSD/GitHub/stt-split-audio/STT_AB/docx/STT_AB00647.docx\n",
      "10.0kB [00:00, 167kB/s]\n"
     ]
    },
    {
     "name": "stdout",
     "output_type": "stream",
     "text": [
      "STT_AB00648 https://docs.google.com/document/d/1qZFMY_M4kMwhn1H3uZgynL__1jiFtDyrNzX2dk3WR-Q/edit?usp=sharing 648.0\n"
     ]
    },
    {
     "name": "stderr",
     "output_type": "stream",
     "text": [
      "Downloading...\n",
      "From: https://docs.google.com/document/d/1qZFMY_M4kMwhn1H3uZgynL__1jiFtDyrNzX2dk3WR-Q/export?format=docx\n",
      "To: /media/monlamai/SSD/GitHub/stt-split-audio/STT_AB/docx/STT_AB00648.docx\n",
      "10.4kB [00:00, 143kB/s]\n"
     ]
    },
    {
     "name": "stdout",
     "output_type": "stream",
     "text": [
      "STT_AB00649 https://docs.google.com/document/d/1mzQbaMuQ28XYfTbVfK8pz_LWL96cVrkownMJiJ7IM7o/edit?usp=sharing 649.0\n"
     ]
    },
    {
     "name": "stderr",
     "output_type": "stream",
     "text": [
      "Downloading...\n",
      "From: https://docs.google.com/document/d/1mzQbaMuQ28XYfTbVfK8pz_LWL96cVrkownMJiJ7IM7o/export?format=docx\n",
      "To: /media/monlamai/SSD/GitHub/stt-split-audio/STT_AB/docx/STT_AB00649.docx\n",
      "9.89kB [00:00, 152kB/s]\n"
     ]
    },
    {
     "name": "stdout",
     "output_type": "stream",
     "text": [
      "STT_AB00650 https://docs.google.com/document/d/1mrB0-TiLI9dKzhhgjaLWVfHkIoxMc8QIJRDgjUanR7o/edit?usp=sharing 650.0\n"
     ]
    },
    {
     "name": "stderr",
     "output_type": "stream",
     "text": [
      "Downloading...\n",
      "From: https://docs.google.com/document/d/1mrB0-TiLI9dKzhhgjaLWVfHkIoxMc8QIJRDgjUanR7o/export?format=docx\n",
      "To: /media/monlamai/SSD/GitHub/stt-split-audio/STT_AB/docx/STT_AB00650.docx\n",
      "12.7kB [00:00, 124kB/s]\n"
     ]
    },
    {
     "name": "stdout",
     "output_type": "stream",
     "text": [
      "STT_AB00651 https://docs.google.com/document/d/11P_RTvNlXWmGsDVPOOBNxMe48MgBG02TCN4OIXhgyJo/edit?usp=sharing 651.0\n"
     ]
    },
    {
     "name": "stderr",
     "output_type": "stream",
     "text": [
      "Downloading...\n",
      "From: https://docs.google.com/document/d/11P_RTvNlXWmGsDVPOOBNxMe48MgBG02TCN4OIXhgyJo/export?format=docx\n",
      "To: /media/monlamai/SSD/GitHub/stt-split-audio/STT_AB/docx/STT_AB00651.docx\n",
      "28.5kB [00:00, 147kB/s]\n"
     ]
    },
    {
     "name": "stdout",
     "output_type": "stream",
     "text": [
      "STT_AB00652 https://docs.google.com/document/d/11Kyy9b_FYuP1G-YuAPvH8-Yf--j6A8_aR7L2yyY8q3c/edit?usp=sharing 652.0\n"
     ]
    },
    {
     "name": "stderr",
     "output_type": "stream",
     "text": [
      "Downloading...\n",
      "From: https://docs.google.com/document/d/11Kyy9b_FYuP1G-YuAPvH8-Yf--j6A8_aR7L2yyY8q3c/export?format=docx\n",
      "To: /media/monlamai/SSD/GitHub/stt-split-audio/STT_AB/docx/STT_AB00652.docx\n",
      "13.5kB [00:00, 142kB/s]\n"
     ]
    },
    {
     "name": "stdout",
     "output_type": "stream",
     "text": [
      "STT_AB00653 https://docs.google.com/document/d/1_c63Ql5emfYn-H0RRcHgNbtstKU-AWPVWfXvU46Onrc/edit?usp=sharing 653.0\n"
     ]
    },
    {
     "name": "stderr",
     "output_type": "stream",
     "text": [
      "Downloading...\n",
      "From: https://docs.google.com/document/d/1_c63Ql5emfYn-H0RRcHgNbtstKU-AWPVWfXvU46Onrc/export?format=docx\n",
      "To: /media/monlamai/SSD/GitHub/stt-split-audio/STT_AB/docx/STT_AB00653.docx\n",
      "8.46kB [00:00, 595kB/s]\n"
     ]
    },
    {
     "name": "stdout",
     "output_type": "stream",
     "text": [
      "STT_AB00654 https://docs.google.com/document/d/1_f9fvR_eBawbdQRECAEKXpMEq-bfgmPEoINIrGqL1oE/edit?usp=sharing 654.0\n"
     ]
    },
    {
     "name": "stderr",
     "output_type": "stream",
     "text": [
      "Downloading...\n",
      "From: https://docs.google.com/document/d/1_f9fvR_eBawbdQRECAEKXpMEq-bfgmPEoINIrGqL1oE/export?format=docx\n",
      "To: /media/monlamai/SSD/GitHub/stt-split-audio/STT_AB/docx/STT_AB00654.docx\n",
      "7.75kB [00:00, 146kB/s]\n"
     ]
    },
    {
     "name": "stdout",
     "output_type": "stream",
     "text": [
      "STT_AB00655 https://docs.google.com/document/d/1G85ZNqyrMAornCGvV6CNw8lypOMMFgD9cQ4fFeNRfhk/edit 655.0\n"
     ]
    },
    {
     "name": "stderr",
     "output_type": "stream",
     "text": [
      "Downloading...\n",
      "From: https://docs.google.com/document/d/1G85ZNqyrMAornCGvV6CNw8lypOMMFgD9cQ4fFeNRfhk/export?format=docx\n",
      "To: /media/monlamai/SSD/GitHub/stt-split-audio/STT_AB/docx/STT_AB00655.docx\n",
      "9.98kB [00:00, 137kB/s]\n"
     ]
    },
    {
     "name": "stdout",
     "output_type": "stream",
     "text": [
      "STT_AB00656 https://docs.google.com/document/d/16cG9X09yXD8-JOTdR5mSVqD_Wx9cAISmot9E_JctAUk/edit?usp=sharing 656.0\n"
     ]
    },
    {
     "name": "stderr",
     "output_type": "stream",
     "text": [
      "Downloading...\n",
      "From: https://docs.google.com/document/d/16cG9X09yXD8-JOTdR5mSVqD_Wx9cAISmot9E_JctAUk/export?format=docx\n",
      "To: /media/monlamai/SSD/GitHub/stt-split-audio/STT_AB/docx/STT_AB00656.docx\n",
      "9.62kB [00:00, 275kB/s]\n"
     ]
    },
    {
     "name": "stdout",
     "output_type": "stream",
     "text": [
      "STT_AB00657 https://docs.google.com/document/d/1HQuBenTmVYkjRxHdX7gqhRaw-nHWGFB8AY520kDyokQ/edit?usp=sharing 657.0\n"
     ]
    },
    {
     "name": "stderr",
     "output_type": "stream",
     "text": [
      "Downloading...\n",
      "From: https://docs.google.com/document/d/1HQuBenTmVYkjRxHdX7gqhRaw-nHWGFB8AY520kDyokQ/export?format=docx\n",
      "To: /media/monlamai/SSD/GitHub/stt-split-audio/STT_AB/docx/STT_AB00657.docx\n",
      "9.00kB [00:00, 239kB/s]\n"
     ]
    },
    {
     "name": "stdout",
     "output_type": "stream",
     "text": [
      "STT_AB00658 https://docs.google.com/document/d/1sgqHIFdpTifnwzGQQbEFfBEsAvBDdmFFwwKjbLe1o94/edit?usp=sharing 658.0\n"
     ]
    },
    {
     "name": "stderr",
     "output_type": "stream",
     "text": [
      "Downloading...\n",
      "From: https://docs.google.com/document/d/1sgqHIFdpTifnwzGQQbEFfBEsAvBDdmFFwwKjbLe1o94/export?format=docx\n",
      "To: /media/monlamai/SSD/GitHub/stt-split-audio/STT_AB/docx/STT_AB00658.docx\n",
      "9.73kB [00:00, 573kB/s]\n"
     ]
    },
    {
     "name": "stdout",
     "output_type": "stream",
     "text": [
      "STT_AB00659 https://docs.google.com/document/d/12Rqmx6nP6PWk2IaglECxAA1OzOBgRdZyMcP-Mn-3jJ4/edit?usp=sharing 659.0\n"
     ]
    },
    {
     "name": "stderr",
     "output_type": "stream",
     "text": [
      "Downloading...\n",
      "From: https://docs.google.com/document/d/12Rqmx6nP6PWk2IaglECxAA1OzOBgRdZyMcP-Mn-3jJ4/export?format=docx\n",
      "To: /media/monlamai/SSD/GitHub/stt-split-audio/STT_AB/docx/STT_AB00659.docx\n",
      "8.66kB [00:00, 498kB/s]\n"
     ]
    },
    {
     "name": "stdout",
     "output_type": "stream",
     "text": [
      "STT_AB00660 https://docs.google.com/document/d/1_utLojuTbPfVnd-djg3aAPwabPS6qy-aw9s3oCuh5hw/edit?usp=sharing 660.0\n"
     ]
    },
    {
     "name": "stderr",
     "output_type": "stream",
     "text": [
      "Downloading...\n",
      "From: https://docs.google.com/document/d/1_utLojuTbPfVnd-djg3aAPwabPS6qy-aw9s3oCuh5hw/export?format=docx\n",
      "To: /media/monlamai/SSD/GitHub/stt-split-audio/STT_AB/docx/STT_AB00660.docx\n",
      "10.4kB [00:00, 2.81MB/s]\n"
     ]
    },
    {
     "name": "stdout",
     "output_type": "stream",
     "text": [
      "STT_AB00661 https://docs.google.com/document/d/14ZCsyn72DANkfLpEvwpTZ21lWt3-DEL-JcaEM1vINXQ/edit?usp=sharing 661.0\n"
     ]
    },
    {
     "name": "stderr",
     "output_type": "stream",
     "text": [
      "Downloading...\n",
      "From: https://docs.google.com/document/d/14ZCsyn72DANkfLpEvwpTZ21lWt3-DEL-JcaEM1vINXQ/export?format=docx\n",
      "To: /media/monlamai/SSD/GitHub/stt-split-audio/STT_AB/docx/STT_AB00661.docx\n",
      "9.82kB [00:00, 173kB/s]\n"
     ]
    },
    {
     "name": "stdout",
     "output_type": "stream",
     "text": [
      "STT_AB00662 https://docs.google.com/document/d/1BITavGNFb9Z6aefscHaQVZLM8Rgl_JNZ1xeG4mo44rI/edit?usp=sharing 662.0\n"
     ]
    },
    {
     "name": "stderr",
     "output_type": "stream",
     "text": [
      "Downloading...\n",
      "From: https://docs.google.com/document/d/1BITavGNFb9Z6aefscHaQVZLM8Rgl_JNZ1xeG4mo44rI/export?format=docx\n",
      "To: /media/monlamai/SSD/GitHub/stt-split-audio/STT_AB/docx/STT_AB00662.docx\n",
      "10.3kB [00:00, 2.64MB/s]\n"
     ]
    },
    {
     "name": "stdout",
     "output_type": "stream",
     "text": [
      "STT_AB00663 https://docs.google.com/document/d/1ZcOThYq7hkqD8tS-Ny4YFT9bg4FRrN41fbCiOQvD2Ic/edit?usp=sharing 663.0\n"
     ]
    },
    {
     "name": "stderr",
     "output_type": "stream",
     "text": [
      "Downloading...\n",
      "From: https://docs.google.com/document/d/1ZcOThYq7hkqD8tS-Ny4YFT9bg4FRrN41fbCiOQvD2Ic/export?format=docx\n",
      "To: /media/monlamai/SSD/GitHub/stt-split-audio/STT_AB/docx/STT_AB00663.docx\n",
      "9.37kB [00:00, 6.47MB/s]\n"
     ]
    },
    {
     "name": "stdout",
     "output_type": "stream",
     "text": [
      "STT_AB00664 https://docs.google.com/document/d/1f2KTIiQl7fOzJaKF2_I33UCKiQarcUrIKMuA299lbUk/edit?usp=sharing 664.0\n"
     ]
    },
    {
     "name": "stderr",
     "output_type": "stream",
     "text": [
      "Downloading...\n",
      "From: https://docs.google.com/document/d/1f2KTIiQl7fOzJaKF2_I33UCKiQarcUrIKMuA299lbUk/export?format=docx\n",
      "To: /media/monlamai/SSD/GitHub/stt-split-audio/STT_AB/docx/STT_AB00664.docx\n",
      "9.84kB [00:00, 267kB/s]\n"
     ]
    },
    {
     "name": "stdout",
     "output_type": "stream",
     "text": [
      "STT_AB00665 https://docs.google.com/document/d/1T2O5REY8qdXhURPXJYaAVf8FGi8bam9swdYlkCE4w4g/edit?usp=sharing 665.0\n"
     ]
    },
    {
     "name": "stderr",
     "output_type": "stream",
     "text": [
      "Downloading...\n",
      "From: https://docs.google.com/document/d/1T2O5REY8qdXhURPXJYaAVf8FGi8bam9swdYlkCE4w4g/export?format=docx\n",
      "To: /media/monlamai/SSD/GitHub/stt-split-audio/STT_AB/docx/STT_AB00665.docx\n",
      "8.77kB [00:00, 588kB/s]\n"
     ]
    },
    {
     "name": "stdout",
     "output_type": "stream",
     "text": [
      "STT_AB00666 https://docs.google.com/document/d/1-ax8W5gNU9hNGeEHsb5rcexd-BTdEMqYm7GrAZgM1zA/edit?usp=sharing 666.0\n"
     ]
    },
    {
     "name": "stderr",
     "output_type": "stream",
     "text": [
      "Downloading...\n",
      "From: https://docs.google.com/document/d/1-ax8W5gNU9hNGeEHsb5rcexd-BTdEMqYm7GrAZgM1zA/export?format=docx\n",
      "To: /media/monlamai/SSD/GitHub/stt-split-audio/STT_AB/docx/STT_AB00666.docx\n",
      "10.2kB [00:00, 2.83MB/s]\n"
     ]
    },
    {
     "name": "stdout",
     "output_type": "stream",
     "text": [
      "STT_AB00667 https://docs.google.com/document/d/1M4w_YVfYKGHWDR5x2rPlleeSFmeuT8UDSo45ABnAZy4/edit?usp=sharing 667.0\n"
     ]
    },
    {
     "name": "stderr",
     "output_type": "stream",
     "text": [
      "Downloading...\n",
      "From: https://docs.google.com/document/d/1M4w_YVfYKGHWDR5x2rPlleeSFmeuT8UDSo45ABnAZy4/export?format=docx\n",
      "To: /media/monlamai/SSD/GitHub/stt-split-audio/STT_AB/docx/STT_AB00667.docx\n",
      "8.76kB [00:00, 154kB/s]\n"
     ]
    },
    {
     "name": "stdout",
     "output_type": "stream",
     "text": [
      "STT_AB00668 https://docs.google.com/document/d/1__qS3EowpREYOdWow6ojcoElbC3UkRyRJPqpUj1pStQ/edit?usp=sharing 668.0\n"
     ]
    },
    {
     "name": "stderr",
     "output_type": "stream",
     "text": [
      "Downloading...\n",
      "From: https://docs.google.com/document/d/1__qS3EowpREYOdWow6ojcoElbC3UkRyRJPqpUj1pStQ/export?format=docx\n",
      "To: /media/monlamai/SSD/GitHub/stt-split-audio/STT_AB/docx/STT_AB00668.docx\n",
      "9.35kB [00:00, 5.00MB/s]\n"
     ]
    },
    {
     "name": "stdout",
     "output_type": "stream",
     "text": [
      "STT_AB00669 https://docs.google.com/document/d/1vF8uewfdz5a6FjIAHTTGdh0jsJU9Ujc-6JZQRLkKqgY/edit?usp=sharing 669.0\n"
     ]
    },
    {
     "name": "stderr",
     "output_type": "stream",
     "text": [
      "Downloading...\n",
      "From: https://docs.google.com/document/d/1vF8uewfdz5a6FjIAHTTGdh0jsJU9Ujc-6JZQRLkKqgY/export?format=docx\n",
      "To: /media/monlamai/SSD/GitHub/stt-split-audio/STT_AB/docx/STT_AB00669.docx\n",
      "9.92kB [00:00, 253kB/s]\n"
     ]
    },
    {
     "name": "stdout",
     "output_type": "stream",
     "text": [
      "STT_AB00670 https://docs.google.com/document/d/1lohTOV8uYaqH-_I4gOeJCXtLXittgdo8H_el6Hu8XJU/edit?usp=sharing 670.0\n"
     ]
    },
    {
     "name": "stderr",
     "output_type": "stream",
     "text": [
      "Downloading...\n",
      "From: https://docs.google.com/document/d/1lohTOV8uYaqH-_I4gOeJCXtLXittgdo8H_el6Hu8XJU/export?format=docx\n",
      "To: /media/monlamai/SSD/GitHub/stt-split-audio/STT_AB/docx/STT_AB00670.docx\n",
      "9.02kB [00:00, 121kB/s]\n"
     ]
    },
    {
     "name": "stdout",
     "output_type": "stream",
     "text": [
      "STT_AB00671 https://docs.google.com/document/d/17rtjZcGzUTcoIo9O6bYzIyKk8j6pYzZac5ifVrwnQZI/edit?usp=sharing 671.0\n"
     ]
    },
    {
     "name": "stderr",
     "output_type": "stream",
     "text": [
      "Downloading...\n",
      "From: https://docs.google.com/document/d/17rtjZcGzUTcoIo9O6bYzIyKk8j6pYzZac5ifVrwnQZI/export?format=docx\n",
      "To: /media/monlamai/SSD/GitHub/stt-split-audio/STT_AB/docx/STT_AB00671.docx\n",
      "9.28kB [00:00, 3.78MB/s]\n"
     ]
    },
    {
     "name": "stdout",
     "output_type": "stream",
     "text": [
      "STT_AB00672 https://docs.google.com/document/d/1oUw1XN2BbHdSOBU_fZmMgQSr_Z1dNWyfsWUYv2QRjsg/edit?usp=sharing 672.0\n"
     ]
    },
    {
     "name": "stderr",
     "output_type": "stream",
     "text": [
      "Downloading...\n",
      "From: https://docs.google.com/document/d/1oUw1XN2BbHdSOBU_fZmMgQSr_Z1dNWyfsWUYv2QRjsg/export?format=docx\n",
      "To: /media/monlamai/SSD/GitHub/stt-split-audio/STT_AB/docx/STT_AB00672.docx\n",
      "9.54kB [00:00, 3.78MB/s]\n"
     ]
    },
    {
     "name": "stdout",
     "output_type": "stream",
     "text": [
      "STT_AB00673 https://docs.google.com/document/d/10aaIIjmJETmOovkc2l_kvmC7Cl996UTSCuImWKdw4F4/edit?usp=sharing 673.0\n"
     ]
    },
    {
     "name": "stderr",
     "output_type": "stream",
     "text": [
      "Downloading...\n",
      "From: https://docs.google.com/document/d/10aaIIjmJETmOovkc2l_kvmC7Cl996UTSCuImWKdw4F4/export?format=docx\n",
      "To: /media/monlamai/SSD/GitHub/stt-split-audio/STT_AB/docx/STT_AB00673.docx\n",
      "10.0kB [00:00, 173kB/s]\n"
     ]
    },
    {
     "name": "stdout",
     "output_type": "stream",
     "text": [
      "STT_AB00674 https://docs.google.com/document/d/1lhEiodudDbpu9_Hiy2EX2r5-67lAThfQ-Q6p86bdWJM/edit?usp=sharing 674.0\n"
     ]
    },
    {
     "name": "stderr",
     "output_type": "stream",
     "text": [
      "Downloading...\n",
      "From: https://docs.google.com/document/d/1lhEiodudDbpu9_Hiy2EX2r5-67lAThfQ-Q6p86bdWJM/export?format=docx\n",
      "To: /media/monlamai/SSD/GitHub/stt-split-audio/STT_AB/docx/STT_AB00674.docx\n",
      "10.1kB [00:00, 137kB/s]\n"
     ]
    },
    {
     "name": "stdout",
     "output_type": "stream",
     "text": [
      "STT_AB00675 https://docs.google.com/document/d/1vsPZ1h-CPleFIPwGWir40N26M5TpAW5AvwpqREHkKTE/edit?usp=sharing 675.0\n"
     ]
    },
    {
     "name": "stderr",
     "output_type": "stream",
     "text": [
      "Downloading...\n",
      "From: https://docs.google.com/document/d/1vsPZ1h-CPleFIPwGWir40N26M5TpAW5AvwpqREHkKTE/export?format=docx\n",
      "To: /media/monlamai/SSD/GitHub/stt-split-audio/STT_AB/docx/STT_AB00675.docx\n",
      "9.27kB [00:00, 6.92MB/s]\n"
     ]
    },
    {
     "name": "stdout",
     "output_type": "stream",
     "text": [
      "STT_AB00676 https://docs.google.com/document/d/1dGzDmZiGxrwM58e7OuZYhBTXW31cvEVXdCRbnmUdCnc/edit?usp=sharing 676.0\n"
     ]
    },
    {
     "name": "stderr",
     "output_type": "stream",
     "text": [
      "Downloading...\n",
      "From: https://docs.google.com/document/d/1dGzDmZiGxrwM58e7OuZYhBTXW31cvEVXdCRbnmUdCnc/export?format=docx\n",
      "To: /media/monlamai/SSD/GitHub/stt-split-audio/STT_AB/docx/STT_AB00676.docx\n",
      "9.11kB [00:00, 3.66MB/s]\n"
     ]
    },
    {
     "name": "stdout",
     "output_type": "stream",
     "text": [
      "STT_AB00677 https://docs.google.com/document/d/1yU8spsz6M9tqr2SY7UerMYobtE2sHu-Q7-CJFNYMVWU/edit?usp=sharing 677.0\n"
     ]
    },
    {
     "name": "stderr",
     "output_type": "stream",
     "text": [
      "Downloading...\n",
      "From: https://docs.google.com/document/d/1yU8spsz6M9tqr2SY7UerMYobtE2sHu-Q7-CJFNYMVWU/export?format=docx\n",
      "To: /media/monlamai/SSD/GitHub/stt-split-audio/STT_AB/docx/STT_AB00677.docx\n",
      "9.44kB [00:00, 126kB/s]\n"
     ]
    },
    {
     "name": "stdout",
     "output_type": "stream",
     "text": [
      "STT_AB00678 https://docs.google.com/document/d/1Kqhqb-fSwpA4XFLCt7UTihcqRi2PuvF4cp0mgFbsY5A/edit?usp=sharing 678.0\n"
     ]
    },
    {
     "name": "stderr",
     "output_type": "stream",
     "text": [
      "Downloading...\n",
      "From: https://docs.google.com/document/d/1Kqhqb-fSwpA4XFLCt7UTihcqRi2PuvF4cp0mgFbsY5A/export?format=docx\n",
      "To: /media/monlamai/SSD/GitHub/stt-split-audio/STT_AB/docx/STT_AB00678.docx\n",
      "9.54kB [00:00, 5.91MB/s]\n"
     ]
    },
    {
     "name": "stdout",
     "output_type": "stream",
     "text": [
      "STT_AB00679 https://docs.google.com/document/d/1B4YWZwEhMQaAyJ-5VHNU2AycyLDa1h0q4Y6VtcH8-CI/edit?usp=sharing 679.0\n"
     ]
    },
    {
     "name": "stderr",
     "output_type": "stream",
     "text": [
      "Downloading...\n",
      "From: https://docs.google.com/document/d/1B4YWZwEhMQaAyJ-5VHNU2AycyLDa1h0q4Y6VtcH8-CI/export?format=docx\n",
      "To: /media/monlamai/SSD/GitHub/stt-split-audio/STT_AB/docx/STT_AB00679.docx\n",
      "9.30kB [00:00, 163kB/s]\n"
     ]
    },
    {
     "name": "stdout",
     "output_type": "stream",
     "text": [
      "STT_AB00680 https://docs.google.com/document/d/1inhro2WKB4FOzJDhVwuQgC54kZDCl3ou7n8CpmQD6Rc/edit 680.0\n"
     ]
    },
    {
     "name": "stderr",
     "output_type": "stream",
     "text": [
      "Downloading...\n",
      "From: https://docs.google.com/document/d/1inhro2WKB4FOzJDhVwuQgC54kZDCl3ou7n8CpmQD6Rc/export?format=docx\n",
      "To: /media/monlamai/SSD/GitHub/stt-split-audio/STT_AB/docx/STT_AB00680.docx\n",
      "9.53kB [00:00, 4.71MB/s]\n"
     ]
    },
    {
     "name": "stdout",
     "output_type": "stream",
     "text": [
      "STT_AB00681 https://docs.google.com/document/d/1Q3sME5mWxllmH4HSJCSJVl8xt-cpHgQLc_7bAAOfJZ4/edit?usp=sharing 681.0\n"
     ]
    },
    {
     "name": "stderr",
     "output_type": "stream",
     "text": [
      "Downloading...\n",
      "From: https://docs.google.com/document/d/1Q3sME5mWxllmH4HSJCSJVl8xt-cpHgQLc_7bAAOfJZ4/export?format=docx\n",
      "To: /media/monlamai/SSD/GitHub/stt-split-audio/STT_AB/docx/STT_AB00681.docx\n",
      "9.36kB [00:00, 4.17MB/s]\n"
     ]
    },
    {
     "name": "stdout",
     "output_type": "stream",
     "text": [
      "STT_AB00682 https://docs.google.com/document/d/1TPvCMc9BCQr3AUaNnWpIBsLl0q7sFjUl0ghyd_uSWKI/edit?usp=sharing 682.0\n"
     ]
    },
    {
     "name": "stderr",
     "output_type": "stream",
     "text": [
      "Downloading...\n",
      "From: https://docs.google.com/document/d/1TPvCMc9BCQr3AUaNnWpIBsLl0q7sFjUl0ghyd_uSWKI/export?format=docx\n",
      "To: /media/monlamai/SSD/GitHub/stt-split-audio/STT_AB/docx/STT_AB00682.docx\n",
      "9.58kB [00:00, 2.80MB/s]\n"
     ]
    },
    {
     "name": "stdout",
     "output_type": "stream",
     "text": [
      "STT_AB00683 https://docs.google.com/document/d/1skTZBgtAQOKmiXJZz-Exyofj7yLbcSfwlpITqlt2MoA/edit?usp=sharing 683.0\n"
     ]
    },
    {
     "name": "stderr",
     "output_type": "stream",
     "text": [
      "Downloading...\n",
      "From: https://docs.google.com/document/d/1skTZBgtAQOKmiXJZz-Exyofj7yLbcSfwlpITqlt2MoA/export?format=docx\n",
      "To: /media/monlamai/SSD/GitHub/stt-split-audio/STT_AB/docx/STT_AB00683.docx\n",
      "9.24kB [00:00, 251kB/s]\n"
     ]
    },
    {
     "name": "stdout",
     "output_type": "stream",
     "text": [
      "STT_AB00684 https://docs.google.com/document/d/1Hx_HG_Tgb3HrozRFVV0Yv8886QK5mw-ZLD87KM1Y42I/edit?usp=sharing 684.0\n"
     ]
    },
    {
     "name": "stderr",
     "output_type": "stream",
     "text": [
      "Downloading...\n",
      "From: https://docs.google.com/document/d/1Hx_HG_Tgb3HrozRFVV0Yv8886QK5mw-ZLD87KM1Y42I/export?format=docx\n",
      "To: /media/monlamai/SSD/GitHub/stt-split-audio/STT_AB/docx/STT_AB00684.docx\n",
      "9.66kB [00:00, 3.76MB/s]\n"
     ]
    },
    {
     "name": "stdout",
     "output_type": "stream",
     "text": [
      "STT_AB00685 https://docs.google.com/document/d/18Tu7euVcFtx47QhLJpbsu2kiEc0T7o0MT8sdFmDXobk/edit?usp=sharing 685.0\n"
     ]
    },
    {
     "name": "stderr",
     "output_type": "stream",
     "text": [
      "Downloading...\n",
      "From: https://docs.google.com/document/d/18Tu7euVcFtx47QhLJpbsu2kiEc0T7o0MT8sdFmDXobk/export?format=docx\n",
      "To: /media/monlamai/SSD/GitHub/stt-split-audio/STT_AB/docx/STT_AB00685.docx\n",
      "9.94kB [00:00, 3.23MB/s]\n"
     ]
    },
    {
     "name": "stdout",
     "output_type": "stream",
     "text": [
      "STT_AB00686 https://docs.google.com/document/d/1qMYZI0WC_rn4BQq92b_zP4-8pY3SqpsuX-XQqTJAJp8/edit?usp=sharing 686.0\n"
     ]
    },
    {
     "name": "stderr",
     "output_type": "stream",
     "text": [
      "Downloading...\n",
      "From: https://docs.google.com/document/d/1qMYZI0WC_rn4BQq92b_zP4-8pY3SqpsuX-XQqTJAJp8/export?format=docx\n",
      "To: /media/monlamai/SSD/GitHub/stt-split-audio/STT_AB/docx/STT_AB00686.docx\n",
      "9.22kB [00:00, 167kB/s]\n"
     ]
    },
    {
     "name": "stdout",
     "output_type": "stream",
     "text": [
      "STT_AB00687 https://docs.google.com/document/d/1JxS-jK1T_equ-uPnX4dicarp_Lxf3rllkG-W_5hw2fI/edit?usp=sharing 687.0\n"
     ]
    },
    {
     "name": "stderr",
     "output_type": "stream",
     "text": [
      "Downloading...\n",
      "From: https://docs.google.com/document/d/1JxS-jK1T_equ-uPnX4dicarp_Lxf3rllkG-W_5hw2fI/export?format=docx\n",
      "To: /media/monlamai/SSD/GitHub/stt-split-audio/STT_AB/docx/STT_AB00687.docx\n",
      "8.59kB [00:00, 577kB/s]\n"
     ]
    },
    {
     "name": "stdout",
     "output_type": "stream",
     "text": [
      "STT_AB00688 https://docs.google.com/document/d/1b7X4qe43jL-9wmK4XVYGRApo_x7hS6QAxak0l6a7JPs/edit?usp=sharing 688.0\n"
     ]
    },
    {
     "name": "stderr",
     "output_type": "stream",
     "text": [
      "Downloading...\n",
      "From: https://docs.google.com/document/d/1b7X4qe43jL-9wmK4XVYGRApo_x7hS6QAxak0l6a7JPs/export?format=docx\n",
      "To: /media/monlamai/SSD/GitHub/stt-split-audio/STT_AB/docx/STT_AB00688.docx\n",
      "9.34kB [00:00, 258kB/s]\n"
     ]
    },
    {
     "name": "stdout",
     "output_type": "stream",
     "text": [
      "STT_AB00689 https://docs.google.com/document/d/1ksHdGipJymer-A8ChZZn31i1K4ht4x7CyHZAuS4MiKY/edit?usp=sharing 689.0\n"
     ]
    },
    {
     "name": "stderr",
     "output_type": "stream",
     "text": [
      "Downloading...\n",
      "From: https://docs.google.com/document/d/1ksHdGipJymer-A8ChZZn31i1K4ht4x7CyHZAuS4MiKY/export?format=docx\n",
      "To: /media/monlamai/SSD/GitHub/stt-split-audio/STT_AB/docx/STT_AB00689.docx\n",
      "8.82kB [00:00, 3.41MB/s]\n"
     ]
    },
    {
     "name": "stdout",
     "output_type": "stream",
     "text": [
      "STT_AB00690 https://docs.google.com/document/d/1-kxxWGc9am9pNvp2L7Quhp9sY2BOEhFyWp80rXNtkhY/edit?usp=sharing 690.0\n"
     ]
    },
    {
     "name": "stderr",
     "output_type": "stream",
     "text": [
      "Downloading...\n",
      "From: https://docs.google.com/document/d/1-kxxWGc9am9pNvp2L7Quhp9sY2BOEhFyWp80rXNtkhY/export?format=docx\n",
      "To: /media/monlamai/SSD/GitHub/stt-split-audio/STT_AB/docx/STT_AB00690.docx\n",
      "9.27kB [00:00, 249kB/s]\n"
     ]
    },
    {
     "name": "stdout",
     "output_type": "stream",
     "text": [
      "STT_AB00691 https://docs.google.com/document/d/1wP1aFU1wZjcJ1W2HXzIX5763KbmC3F4xV69hjkcRTXU/edit?usp=sharing 691.0\n"
     ]
    },
    {
     "name": "stderr",
     "output_type": "stream",
     "text": [
      "Downloading...\n",
      "From: https://docs.google.com/document/d/1wP1aFU1wZjcJ1W2HXzIX5763KbmC3F4xV69hjkcRTXU/export?format=docx\n",
      "To: /media/monlamai/SSD/GitHub/stt-split-audio/STT_AB/docx/STT_AB00691.docx\n",
      "9.60kB [00:00, 2.78MB/s]\n"
     ]
    }
   ],
   "source": [
    "df = read_spreadsheet(sheet_id=\"1yKSzConuVWo8BuMDs2mabF5iiBKUz2wF--LIabFN6QE\")\n",
    "\n",
    "for index, row in df.iterrows():\n",
    "    file_name = row['ID']\n",
    "    gd_url = row['Etext link']\n",
    "    Sr_no = row['z']\n",
    "    # if not isinstance(gd_url, str) or not isinstance(id, str):\n",
    "    #     continue\n",
    "    if Sr_no >= 645 and Sr_no <= 691:\n",
    "        print(file_name, gd_url, Sr_no)\n",
    "        download_etext(gd_url, file_name)\n"
   ]
  }
 ],
 "metadata": {
  "kernelspec": {
   "display_name": ".env",
   "language": "python",
   "name": "python3"
  },
  "language_info": {
   "codemirror_mode": {
    "name": "ipython",
    "version": 3
   },
   "file_extension": ".py",
   "mimetype": "text/x-python",
   "name": "python",
   "nbconvert_exporter": "python",
   "pygments_lexer": "ipython3",
   "version": "3.10.12"
  }
 },
 "nbformat": 4,
 "nbformat_minor": 2
}
