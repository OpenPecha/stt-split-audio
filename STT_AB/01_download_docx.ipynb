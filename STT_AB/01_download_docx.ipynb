{
 "cells": [
  {
   "cell_type": "code",
   "execution_count": null,
   "metadata": {},
   "outputs": [],
   "source": [
    "! pip install python-dotenv\n",
    "! pip install pydub\n",
    "! pip install pandas\n",
    "! pip install psycopg2\n",
    "! pip install pyannote.audio\n",
    "! pip install google-auth google-auth-httplib2 google-api-python-client google-auth-oauthlib\n",
    "! pip install gdown\n",
    "! pip install python-docx"
   ]
  },
  {
   "cell_type": "code",
   "execution_count": null,
   "metadata": {},
   "outputs": [],
   "source": [
    "import sys\n",
    "sys.path.append('../util')\n",
    "\n",
    "from util import read_spreadsheet\n",
    "from util import get_max_db_id"
   ]
  },
  {
   "cell_type": "code",
   "execution_count": null,
   "metadata": {},
   "outputs": [],
   "source": [
    "import os\n",
    "import gdown\n",
    "from docx import Document\n",
    "\n",
    "def docx_to_txt(docx_path):\n",
    "        doc = Document(docx_path)\n",
    "        fullText = []\n",
    "        for para in doc.paragraphs:\n",
    "            fullText.append(para.text)\n",
    "        return '\\n'.join(fullText)\n",
    "\n",
    "def download_etext(gd_url,file_name):\n",
    "    if not os.path.exists('etexts'):\n",
    "        os.makedirs('etexts')\n",
    "\n",
    "    if not os.path.exists('docx'):\n",
    "        os.makedirs('docx')\n",
    "    \n",
    "    if os.path.exists(f'etexts/{file_name}.txt'):\n",
    "        return\n",
    "    docx_url, _ = os.path.split(gd_url)\n",
    "    docx_url = os.path.join(docx_url, 'export?format=docx')\n",
    "    docx_path = gdown.download(docx_url, output=f'docx/{file_name}.docx', quiet=False, fuzzy=True)\n",
    "    # Convert the .docx file to text\n",
    "    text = docx_to_txt(docx_path)\n",
    "    # Create a .txt path with the same name as the .docx file\n",
    "    txt_path = os.path.join('etexts/', file_name + '.txt')\n",
    "    # Save the text to a .txt file\n",
    "    with open(txt_path, 'w',encoding='utf-8') as f:\n",
    "        f.write(text.replace('\\n', ' '))"
   ]
  },
  {
   "cell_type": "code",
   "execution_count": null,
   "metadata": {},
   "outputs": [],
   "source": [
    "# Configuration\n",
    "ab_sheet_id = \"1yKSzConuVWo8BuMDs2mabF5iiBKUz2wF--LIabFN6QE\"\n",
    "sr_no_start = 645\n",
    "sr_no_end = 691\n",
    "\n",
    "# Column names\n",
    "col_file_name = 'ID'\n",
    "col_gd_url = 'Etext link'\n",
    "col_sr_no = 'z'\n",
    "\n",
    "# Read the spreadsheet data\n",
    "df = read_spreadsheet(sheet_id=ab_sheet_id)\n",
    "\n",
    "# Iterate over the DataFrame rows\n",
    "for index, row in df.iterrows():\n",
    "    file_name = row[col_file_name]\n",
    "    gd_url = row[col_gd_url]\n",
    "    sr_no = row[col_sr_no]\n",
    "\n",
    "    # Ensure the Sr_no is within the desired range before downloading\n",
    "    if sr_no_start <= sr_no <= sr_no_end:\n",
    "        print(f\"Downloading: {file_name} from {gd_url}, Sr_no: {sr_no}\")\n",
    "        download_etext(gd_url=gd_url, file_name=file_name)\n"
   ]
  }
 ],
 "metadata": {
  "kernelspec": {
   "display_name": ".env",
   "language": "python",
   "name": "python3"
  },
  "language_info": {
   "codemirror_mode": {
    "name": "ipython",
    "version": 3
   },
   "file_extension": ".py",
   "mimetype": "text/x-python",
   "name": "python",
   "nbconvert_exporter": "python",
   "pygments_lexer": "ipython3",
   "version": "3.10.12"
  }
 },
 "nbformat": 4,
 "nbformat_minor": 2
}
