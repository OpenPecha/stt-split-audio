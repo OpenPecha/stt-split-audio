{
 "cells": [
  {
   "cell_type": "code",
   "execution_count": null,
   "metadata": {},
   "outputs": [],
   "source": [
    "! pip install python-dotenv\n",
    "! pip install pydub\n",
    "! pip install pandas\n",
    "! pip install psycopg2\n",
    "! pip install pyannote.audio\n",
    "! pip install google-auth google-auth-httplib2 google-api-python-client google-auth-oauthlib\n",
    "! pip install gdown\n",
    "! pip install python-docx"
   ]
  },
  {
   "cell_type": "code",
   "execution_count": null,
   "metadata": {},
   "outputs": [],
   "source": [
    "import sys\n",
    "sys.path.append('../util')\n",
    "\n",
    "from util import read_spreadsheet\n",
    "from util import get_max_db_id"
   ]
  },
  {
   "cell_type": "code",
   "execution_count": null,
   "metadata": {},
   "outputs": [],
   "source": [
    "import os\n",
    "import gdown\n",
    "from docx import Document\n",
    "\n",
    "def docx_to_txt(docx_path):\n",
    "        doc = Document(docx_path)\n",
    "        fullText = []\n",
    "        for para in doc.paragraphs:\n",
    "            fullText.append(para.text)\n",
    "        return '\\n'.join(fullText)\n",
    "\n",
    "def download_etext(gd_url,file_name):\n",
    "    if not os.path.exists('etexts'):\n",
    "        os.makedirs('etexts')\n",
    "\n",
    "    if not os.path.exists('docx'):\n",
    "        os.makedirs('docx')\n",
    "    \n",
    "    if os.path.exists(f'etexts/{file_name}.txt'):\n",
    "        return\n",
    "    docx_url, _ = os.path.split(gd_url)\n",
    "    docx_url = os.path.join(docx_url, 'export?format=docx')\n",
    "    docx_path = gdown.download(docx_url, output=f'docx/{file_name}.docx', quiet=False, fuzzy=True)\n",
    "    # Convert the .docx file to text\n",
    "    text = docx_to_txt(docx_path)\n",
    "    # Create a .txt path with the same name as the .docx file\n",
    "    txt_path = os.path.join('etexts/', file_name + '.txt')\n",
    "    # Save the text to a .txt file\n",
    "    with open(txt_path, 'w',encoding='utf-8') as f:\n",
    "        f.write(text.replace('\\n', ' '))"
   ]
  },
  {
   "cell_type": "code",
   "execution_count": null,
   "metadata": {},
   "outputs": [],
   "source": [
    "df = read_spreadsheet(sheet_id=\"1yKSzConuVWo8BuMDs2mabF5iiBKUz2wF--LIabFN6QE\")\n",
    "\n",
    "for index, row in df.iterrows():\n",
    "    file_name = row['ID']\n",
    "    gd_url = row['Etext link']\n",
    "    Sr_no = row['z']\n",
    "    # if not isinstance(gd_url, str) or not isinstance(id, str):\n",
    "    #     continue\n",
    "    if Sr_no >= 645 and Sr_no <= 691:\n",
    "        print(file_name, gd_url, Sr_no)\n",
    "        download_etext(gd_url, file_name)\n"
   ]
  }
 ],
 "metadata": {
  "kernelspec": {
   "display_name": ".env",
   "language": "python",
   "name": "python3"
  },
  "language_info": {
   "codemirror_mode": {
    "name": "ipython",
    "version": 3
   },
   "file_extension": ".py",
   "mimetype": "text/x-python",
   "name": "python",
   "nbconvert_exporter": "python",
   "pygments_lexer": "ipython3",
   "version": "3.10.12"
  }
 },
 "nbformat": 4,
 "nbformat_minor": 2
}
