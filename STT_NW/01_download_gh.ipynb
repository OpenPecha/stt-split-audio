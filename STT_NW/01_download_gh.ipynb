{
 "cells": [
  {
   "cell_type": "code",
   "execution_count": 6,
   "metadata": {},
   "outputs": [
    {
     "name": "stdout",
     "output_type": "stream",
     "text": [
      "Requirement already satisfied: pyannote.audio in /home/gangagyatso/Desktop/work/stt-split-audio/.venv/lib/python3.10/site-packages (3.3.1)\n",
      "Requirement already satisfied: asteroid-filterbanks>=0.4 in /home/gangagyatso/Desktop/work/stt-split-audio/.venv/lib/python3.10/site-packages (from pyannote.audio) (0.4.0)\n",
      "Requirement already satisfied: einops>=0.6.0 in /home/gangagyatso/Desktop/work/stt-split-audio/.venv/lib/python3.10/site-packages (from pyannote.audio) (0.8.0)\n",
      "Requirement already satisfied: huggingface-hub>=0.13.0 in /home/gangagyatso/Desktop/work/stt-split-audio/.venv/lib/python3.10/site-packages (from pyannote.audio) (0.23.4)\n",
      "Requirement already satisfied: lightning>=2.0.1 in /home/gangagyatso/Desktop/work/stt-split-audio/.venv/lib/python3.10/site-packages (from pyannote.audio) (2.3.1)\n",
      "Requirement already satisfied: omegaconf<3.0,>=2.1 in /home/gangagyatso/Desktop/work/stt-split-audio/.venv/lib/python3.10/site-packages (from pyannote.audio) (2.3.0)\n",
      "Requirement already satisfied: pyannote.core>=5.0.0 in /home/gangagyatso/Desktop/work/stt-split-audio/.venv/lib/python3.10/site-packages (from pyannote.audio) (5.0.0)\n",
      "Requirement already satisfied: pyannote.database>=5.0.1 in /home/gangagyatso/Desktop/work/stt-split-audio/.venv/lib/python3.10/site-packages (from pyannote.audio) (5.1.0)\n",
      "Requirement already satisfied: pyannote.metrics>=3.2 in /home/gangagyatso/Desktop/work/stt-split-audio/.venv/lib/python3.10/site-packages (from pyannote.audio) (3.2.1)\n",
      "Requirement already satisfied: pyannote.pipeline>=3.0.1 in /home/gangagyatso/Desktop/work/stt-split-audio/.venv/lib/python3.10/site-packages (from pyannote.audio) (3.0.1)\n",
      "Requirement already satisfied: pytorch-metric-learning>=2.1.0 in /home/gangagyatso/Desktop/work/stt-split-audio/.venv/lib/python3.10/site-packages (from pyannote.audio) (2.5.0)\n",
      "Requirement already satisfied: rich>=12.0.0 in /home/gangagyatso/Desktop/work/stt-split-audio/.venv/lib/python3.10/site-packages (from pyannote.audio) (13.7.1)\n",
      "Requirement already satisfied: semver>=3.0.0 in /home/gangagyatso/Desktop/work/stt-split-audio/.venv/lib/python3.10/site-packages (from pyannote.audio) (3.0.2)\n",
      "Requirement already satisfied: soundfile>=0.12.1 in /home/gangagyatso/Desktop/work/stt-split-audio/.venv/lib/python3.10/site-packages (from pyannote.audio) (0.12.1)\n",
      "Requirement already satisfied: speechbrain>=1.0.0 in /home/gangagyatso/Desktop/work/stt-split-audio/.venv/lib/python3.10/site-packages (from pyannote.audio) (1.0.0)\n",
      "Requirement already satisfied: tensorboardX>=2.6 in /home/gangagyatso/Desktop/work/stt-split-audio/.venv/lib/python3.10/site-packages (from pyannote.audio) (2.6.2.2)\n",
      "Requirement already satisfied: torch>=2.0.0 in /home/gangagyatso/Desktop/work/stt-split-audio/.venv/lib/python3.10/site-packages (from pyannote.audio) (2.3.1)\n",
      "Requirement already satisfied: torch-audiomentations>=0.11.0 in /home/gangagyatso/Desktop/work/stt-split-audio/.venv/lib/python3.10/site-packages (from pyannote.audio) (0.11.1)\n",
      "Requirement already satisfied: torchaudio>=2.2.0 in /home/gangagyatso/Desktop/work/stt-split-audio/.venv/lib/python3.10/site-packages (from pyannote.audio) (2.3.1)\n",
      "Requirement already satisfied: torchmetrics>=0.11.0 in /home/gangagyatso/Desktop/work/stt-split-audio/.venv/lib/python3.10/site-packages (from pyannote.audio) (1.4.0.post0)\n",
      "Requirement already satisfied: numpy in /home/gangagyatso/Desktop/work/stt-split-audio/.venv/lib/python3.10/site-packages (from asteroid-filterbanks>=0.4->pyannote.audio) (1.26.4)\n",
      "Requirement already satisfied: typing-extensions in /home/gangagyatso/Desktop/work/stt-split-audio/.venv/lib/python3.10/site-packages (from asteroid-filterbanks>=0.4->pyannote.audio) (4.12.2)\n",
      "Requirement already satisfied: filelock in /home/gangagyatso/Desktop/work/stt-split-audio/.venv/lib/python3.10/site-packages (from huggingface-hub>=0.13.0->pyannote.audio) (3.15.4)\n",
      "Requirement already satisfied: fsspec>=2023.5.0 in /home/gangagyatso/Desktop/work/stt-split-audio/.venv/lib/python3.10/site-packages (from huggingface-hub>=0.13.0->pyannote.audio) (2024.6.1)\n",
      "Requirement already satisfied: packaging>=20.9 in /home/gangagyatso/Desktop/work/stt-split-audio/.venv/lib/python3.10/site-packages (from huggingface-hub>=0.13.0->pyannote.audio) (24.1)\n",
      "Requirement already satisfied: pyyaml>=5.1 in /home/gangagyatso/Desktop/work/stt-split-audio/.venv/lib/python3.10/site-packages (from huggingface-hub>=0.13.0->pyannote.audio) (6.0.1)\n",
      "Requirement already satisfied: requests in /home/gangagyatso/Desktop/work/stt-split-audio/.venv/lib/python3.10/site-packages (from huggingface-hub>=0.13.0->pyannote.audio) (2.32.3)\n",
      "Requirement already satisfied: tqdm>=4.42.1 in /home/gangagyatso/Desktop/work/stt-split-audio/.venv/lib/python3.10/site-packages (from huggingface-hub>=0.13.0->pyannote.audio) (4.66.4)\n",
      "Requirement already satisfied: lightning-utilities<2.0,>=0.10.0 in /home/gangagyatso/Desktop/work/stt-split-audio/.venv/lib/python3.10/site-packages (from lightning>=2.0.1->pyannote.audio) (0.11.3.post0)\n",
      "Requirement already satisfied: pytorch-lightning in /home/gangagyatso/Desktop/work/stt-split-audio/.venv/lib/python3.10/site-packages (from lightning>=2.0.1->pyannote.audio) (2.3.1)\n",
      "Requirement already satisfied: antlr4-python3-runtime==4.9.* in /home/gangagyatso/Desktop/work/stt-split-audio/.venv/lib/python3.10/site-packages (from omegaconf<3.0,>=2.1->pyannote.audio) (4.9.3)\n",
      "Requirement already satisfied: sortedcontainers>=2.0.4 in /home/gangagyatso/Desktop/work/stt-split-audio/.venv/lib/python3.10/site-packages (from pyannote.core>=5.0.0->pyannote.audio) (2.4.0)\n",
      "Requirement already satisfied: scipy>=1.1 in /home/gangagyatso/Desktop/work/stt-split-audio/.venv/lib/python3.10/site-packages (from pyannote.core>=5.0.0->pyannote.audio) (1.14.0)\n",
      "Requirement already satisfied: pandas>=0.19 in /home/gangagyatso/Desktop/work/stt-split-audio/.venv/lib/python3.10/site-packages (from pyannote.database>=5.0.1->pyannote.audio) (2.2.2)\n",
      "Requirement already satisfied: typer>=0.12.1 in /home/gangagyatso/Desktop/work/stt-split-audio/.venv/lib/python3.10/site-packages (from pyannote.database>=5.0.1->pyannote.audio) (0.12.3)\n",
      "Requirement already satisfied: scikit-learn>=0.17.1 in /home/gangagyatso/Desktop/work/stt-split-audio/.venv/lib/python3.10/site-packages (from pyannote.metrics>=3.2->pyannote.audio) (1.5.0)\n",
      "Requirement already satisfied: docopt>=0.6.2 in /home/gangagyatso/Desktop/work/stt-split-audio/.venv/lib/python3.10/site-packages (from pyannote.metrics>=3.2->pyannote.audio) (0.6.2)\n",
      "Requirement already satisfied: tabulate>=0.7.7 in /home/gangagyatso/Desktop/work/stt-split-audio/.venv/lib/python3.10/site-packages (from pyannote.metrics>=3.2->pyannote.audio) (0.9.0)\n",
      "Requirement already satisfied: matplotlib>=2.0.0 in /home/gangagyatso/Desktop/work/stt-split-audio/.venv/lib/python3.10/site-packages (from pyannote.metrics>=3.2->pyannote.audio) (3.9.0)\n",
      "Requirement already satisfied: sympy>=1.1 in /home/gangagyatso/Desktop/work/stt-split-audio/.venv/lib/python3.10/site-packages (from pyannote.metrics>=3.2->pyannote.audio) (1.12.1)\n",
      "Requirement already satisfied: optuna>=3.1 in /home/gangagyatso/Desktop/work/stt-split-audio/.venv/lib/python3.10/site-packages (from pyannote.pipeline>=3.0.1->pyannote.audio) (3.6.1)\n",
      "Requirement already satisfied: markdown-it-py>=2.2.0 in /home/gangagyatso/Desktop/work/stt-split-audio/.venv/lib/python3.10/site-packages (from rich>=12.0.0->pyannote.audio) (3.0.0)\n",
      "Requirement already satisfied: pygments<3.0.0,>=2.13.0 in /home/gangagyatso/Desktop/work/stt-split-audio/.venv/lib/python3.10/site-packages (from rich>=12.0.0->pyannote.audio) (2.18.0)\n",
      "Requirement already satisfied: cffi>=1.0 in /home/gangagyatso/Desktop/work/stt-split-audio/.venv/lib/python3.10/site-packages (from soundfile>=0.12.1->pyannote.audio) (1.16.0)\n",
      "Requirement already satisfied: hyperpyyaml in /home/gangagyatso/Desktop/work/stt-split-audio/.venv/lib/python3.10/site-packages (from speechbrain>=1.0.0->pyannote.audio) (1.2.2)\n",
      "Requirement already satisfied: joblib in /home/gangagyatso/Desktop/work/stt-split-audio/.venv/lib/python3.10/site-packages (from speechbrain>=1.0.0->pyannote.audio) (1.4.2)\n",
      "Requirement already satisfied: sentencepiece in /home/gangagyatso/Desktop/work/stt-split-audio/.venv/lib/python3.10/site-packages (from speechbrain>=1.0.0->pyannote.audio) (0.2.0)\n",
      "Requirement already satisfied: protobuf>=3.20 in /home/gangagyatso/Desktop/work/stt-split-audio/.venv/lib/python3.10/site-packages (from tensorboardX>=2.6->pyannote.audio) (5.27.2)\n",
      "Requirement already satisfied: networkx in /home/gangagyatso/Desktop/work/stt-split-audio/.venv/lib/python3.10/site-packages (from torch>=2.0.0->pyannote.audio) (3.3)\n",
      "Requirement already satisfied: jinja2 in /home/gangagyatso/Desktop/work/stt-split-audio/.venv/lib/python3.10/site-packages (from torch>=2.0.0->pyannote.audio) (3.1.4)\n",
      "Requirement already satisfied: nvidia-cuda-nvrtc-cu12==12.1.105 in /home/gangagyatso/Desktop/work/stt-split-audio/.venv/lib/python3.10/site-packages (from torch>=2.0.0->pyannote.audio) (12.1.105)\n",
      "Requirement already satisfied: nvidia-cuda-runtime-cu12==12.1.105 in /home/gangagyatso/Desktop/work/stt-split-audio/.venv/lib/python3.10/site-packages (from torch>=2.0.0->pyannote.audio) (12.1.105)\n",
      "Requirement already satisfied: nvidia-cuda-cupti-cu12==12.1.105 in /home/gangagyatso/Desktop/work/stt-split-audio/.venv/lib/python3.10/site-packages (from torch>=2.0.0->pyannote.audio) (12.1.105)\n",
      "Requirement already satisfied: nvidia-cudnn-cu12==8.9.2.26 in /home/gangagyatso/Desktop/work/stt-split-audio/.venv/lib/python3.10/site-packages (from torch>=2.0.0->pyannote.audio) (8.9.2.26)\n",
      "Requirement already satisfied: nvidia-cublas-cu12==12.1.3.1 in /home/gangagyatso/Desktop/work/stt-split-audio/.venv/lib/python3.10/site-packages (from torch>=2.0.0->pyannote.audio) (12.1.3.1)\n",
      "Requirement already satisfied: nvidia-cufft-cu12==11.0.2.54 in /home/gangagyatso/Desktop/work/stt-split-audio/.venv/lib/python3.10/site-packages (from torch>=2.0.0->pyannote.audio) (11.0.2.54)\n",
      "Requirement already satisfied: nvidia-curand-cu12==10.3.2.106 in /home/gangagyatso/Desktop/work/stt-split-audio/.venv/lib/python3.10/site-packages (from torch>=2.0.0->pyannote.audio) (10.3.2.106)\n",
      "Requirement already satisfied: nvidia-cusolver-cu12==11.4.5.107 in /home/gangagyatso/Desktop/work/stt-split-audio/.venv/lib/python3.10/site-packages (from torch>=2.0.0->pyannote.audio) (11.4.5.107)\n",
      "Requirement already satisfied: nvidia-cusparse-cu12==12.1.0.106 in /home/gangagyatso/Desktop/work/stt-split-audio/.venv/lib/python3.10/site-packages (from torch>=2.0.0->pyannote.audio) (12.1.0.106)\n",
      "Requirement already satisfied: nvidia-nccl-cu12==2.20.5 in /home/gangagyatso/Desktop/work/stt-split-audio/.venv/lib/python3.10/site-packages (from torch>=2.0.0->pyannote.audio) (2.20.5)\n",
      "Requirement already satisfied: nvidia-nvtx-cu12==12.1.105 in /home/gangagyatso/Desktop/work/stt-split-audio/.venv/lib/python3.10/site-packages (from torch>=2.0.0->pyannote.audio) (12.1.105)\n",
      "Requirement already satisfied: triton==2.3.1 in /home/gangagyatso/Desktop/work/stt-split-audio/.venv/lib/python3.10/site-packages (from torch>=2.0.0->pyannote.audio) (2.3.1)\n",
      "Requirement already satisfied: nvidia-nvjitlink-cu12 in /home/gangagyatso/Desktop/work/stt-split-audio/.venv/lib/python3.10/site-packages (from nvidia-cusolver-cu12==11.4.5.107->torch>=2.0.0->pyannote.audio) (12.5.40)\n",
      "Requirement already satisfied: julius<0.3,>=0.2.3 in /home/gangagyatso/Desktop/work/stt-split-audio/.venv/lib/python3.10/site-packages (from torch-audiomentations>=0.11.0->pyannote.audio) (0.2.7)\n",
      "Requirement already satisfied: librosa>=0.6.0 in /home/gangagyatso/Desktop/work/stt-split-audio/.venv/lib/python3.10/site-packages (from torch-audiomentations>=0.11.0->pyannote.audio) (0.10.2.post1)\n",
      "Requirement already satisfied: torch-pitch-shift>=1.2.2 in /home/gangagyatso/Desktop/work/stt-split-audio/.venv/lib/python3.10/site-packages (from torch-audiomentations>=0.11.0->pyannote.audio) (1.2.4)\n",
      "Requirement already satisfied: pycparser in /home/gangagyatso/Desktop/work/stt-split-audio/.venv/lib/python3.10/site-packages (from cffi>=1.0->soundfile>=0.12.1->pyannote.audio) (2.22)\n",
      "Requirement already satisfied: aiohttp!=4.0.0a0,!=4.0.0a1 in /home/gangagyatso/Desktop/work/stt-split-audio/.venv/lib/python3.10/site-packages (from fsspec[http]<2026.0,>=2022.5.0->lightning>=2.0.1->pyannote.audio) (3.9.5)\n",
      "Requirement already satisfied: audioread>=2.1.9 in /home/gangagyatso/Desktop/work/stt-split-audio/.venv/lib/python3.10/site-packages (from librosa>=0.6.0->torch-audiomentations>=0.11.0->pyannote.audio) (3.0.1)\n",
      "Requirement already satisfied: decorator>=4.3.0 in /home/gangagyatso/Desktop/work/stt-split-audio/.venv/lib/python3.10/site-packages (from librosa>=0.6.0->torch-audiomentations>=0.11.0->pyannote.audio) (4.4.2)\n",
      "Requirement already satisfied: numba>=0.51.0 in /home/gangagyatso/Desktop/work/stt-split-audio/.venv/lib/python3.10/site-packages (from librosa>=0.6.0->torch-audiomentations>=0.11.0->pyannote.audio) (0.60.0)\n",
      "Requirement already satisfied: pooch>=1.1 in /home/gangagyatso/Desktop/work/stt-split-audio/.venv/lib/python3.10/site-packages (from librosa>=0.6.0->torch-audiomentations>=0.11.0->pyannote.audio) (1.8.2)\n",
      "Requirement already satisfied: soxr>=0.3.2 in /home/gangagyatso/Desktop/work/stt-split-audio/.venv/lib/python3.10/site-packages (from librosa>=0.6.0->torch-audiomentations>=0.11.0->pyannote.audio) (0.3.7)\n",
      "Requirement already satisfied: lazy-loader>=0.1 in /home/gangagyatso/Desktop/work/stt-split-audio/.venv/lib/python3.10/site-packages (from librosa>=0.6.0->torch-audiomentations>=0.11.0->pyannote.audio) (0.4)\n",
      "Requirement already satisfied: msgpack>=1.0 in /home/gangagyatso/Desktop/work/stt-split-audio/.venv/lib/python3.10/site-packages (from librosa>=0.6.0->torch-audiomentations>=0.11.0->pyannote.audio) (1.0.8)\n",
      "Requirement already satisfied: setuptools in /home/gangagyatso/Desktop/work/stt-split-audio/.venv/lib/python3.10/site-packages (from lightning-utilities<2.0,>=0.10.0->lightning>=2.0.1->pyannote.audio) (59.6.0)\n",
      "Requirement already satisfied: mdurl~=0.1 in /home/gangagyatso/Desktop/work/stt-split-audio/.venv/lib/python3.10/site-packages (from markdown-it-py>=2.2.0->rich>=12.0.0->pyannote.audio) (0.1.2)\n",
      "Requirement already satisfied: contourpy>=1.0.1 in /home/gangagyatso/Desktop/work/stt-split-audio/.venv/lib/python3.10/site-packages (from matplotlib>=2.0.0->pyannote.metrics>=3.2->pyannote.audio) (1.2.1)\n",
      "Requirement already satisfied: cycler>=0.10 in /home/gangagyatso/Desktop/work/stt-split-audio/.venv/lib/python3.10/site-packages (from matplotlib>=2.0.0->pyannote.metrics>=3.2->pyannote.audio) (0.12.1)\n",
      "Requirement already satisfied: fonttools>=4.22.0 in /home/gangagyatso/Desktop/work/stt-split-audio/.venv/lib/python3.10/site-packages (from matplotlib>=2.0.0->pyannote.metrics>=3.2->pyannote.audio) (4.53.0)\n",
      "Requirement already satisfied: kiwisolver>=1.3.1 in /home/gangagyatso/Desktop/work/stt-split-audio/.venv/lib/python3.10/site-packages (from matplotlib>=2.0.0->pyannote.metrics>=3.2->pyannote.audio) (1.4.5)\n",
      "Requirement already satisfied: pillow>=8 in /home/gangagyatso/Desktop/work/stt-split-audio/.venv/lib/python3.10/site-packages (from matplotlib>=2.0.0->pyannote.metrics>=3.2->pyannote.audio) (10.3.0)\n",
      "Requirement already satisfied: pyparsing>=2.3.1 in /home/gangagyatso/Desktop/work/stt-split-audio/.venv/lib/python3.10/site-packages (from matplotlib>=2.0.0->pyannote.metrics>=3.2->pyannote.audio) (3.1.2)\n",
      "Requirement already satisfied: python-dateutil>=2.7 in /home/gangagyatso/Desktop/work/stt-split-audio/.venv/lib/python3.10/site-packages (from matplotlib>=2.0.0->pyannote.metrics>=3.2->pyannote.audio) (2.9.0.post0)\n",
      "Requirement already satisfied: alembic>=1.5.0 in /home/gangagyatso/Desktop/work/stt-split-audio/.venv/lib/python3.10/site-packages (from optuna>=3.1->pyannote.pipeline>=3.0.1->pyannote.audio) (1.13.2)\n",
      "Requirement already satisfied: colorlog in /home/gangagyatso/Desktop/work/stt-split-audio/.venv/lib/python3.10/site-packages (from optuna>=3.1->pyannote.pipeline>=3.0.1->pyannote.audio) (6.8.2)\n",
      "Requirement already satisfied: sqlalchemy>=1.3.0 in /home/gangagyatso/Desktop/work/stt-split-audio/.venv/lib/python3.10/site-packages (from optuna>=3.1->pyannote.pipeline>=3.0.1->pyannote.audio) (2.0.31)\n",
      "Requirement already satisfied: pytz>=2020.1 in /home/gangagyatso/Desktop/work/stt-split-audio/.venv/lib/python3.10/site-packages (from pandas>=0.19->pyannote.database>=5.0.1->pyannote.audio) (2024.1)\n",
      "Requirement already satisfied: tzdata>=2022.7 in /home/gangagyatso/Desktop/work/stt-split-audio/.venv/lib/python3.10/site-packages (from pandas>=0.19->pyannote.database>=5.0.1->pyannote.audio) (2024.1)\n",
      "Requirement already satisfied: threadpoolctl>=3.1.0 in /home/gangagyatso/Desktop/work/stt-split-audio/.venv/lib/python3.10/site-packages (from scikit-learn>=0.17.1->pyannote.metrics>=3.2->pyannote.audio) (3.5.0)\n",
      "Requirement already satisfied: mpmath<1.4.0,>=1.1.0 in /home/gangagyatso/Desktop/work/stt-split-audio/.venv/lib/python3.10/site-packages (from sympy>=1.1->pyannote.metrics>=3.2->pyannote.audio) (1.3.0)\n",
      "Requirement already satisfied: primePy>=1.3 in /home/gangagyatso/Desktop/work/stt-split-audio/.venv/lib/python3.10/site-packages (from torch-pitch-shift>=1.2.2->torch-audiomentations>=0.11.0->pyannote.audio) (1.3)\n",
      "Requirement already satisfied: click>=8.0.0 in /home/gangagyatso/Desktop/work/stt-split-audio/.venv/lib/python3.10/site-packages (from typer>=0.12.1->pyannote.database>=5.0.1->pyannote.audio) (8.1.7)\n",
      "Requirement already satisfied: shellingham>=1.3.0 in /home/gangagyatso/Desktop/work/stt-split-audio/.venv/lib/python3.10/site-packages (from typer>=0.12.1->pyannote.database>=5.0.1->pyannote.audio) (1.5.4)\n",
      "Requirement already satisfied: ruamel.yaml>=0.17.28 in /home/gangagyatso/Desktop/work/stt-split-audio/.venv/lib/python3.10/site-packages (from hyperpyyaml->speechbrain>=1.0.0->pyannote.audio) (0.18.6)\n",
      "Requirement already satisfied: MarkupSafe>=2.0 in /home/gangagyatso/Desktop/work/stt-split-audio/.venv/lib/python3.10/site-packages (from jinja2->torch>=2.0.0->pyannote.audio) (2.1.5)\n",
      "Requirement already satisfied: charset-normalizer<4,>=2 in /home/gangagyatso/Desktop/work/stt-split-audio/.venv/lib/python3.10/site-packages (from requests->huggingface-hub>=0.13.0->pyannote.audio) (3.3.2)\n",
      "Requirement already satisfied: idna<4,>=2.5 in /home/gangagyatso/Desktop/work/stt-split-audio/.venv/lib/python3.10/site-packages (from requests->huggingface-hub>=0.13.0->pyannote.audio) (3.7)\n",
      "Requirement already satisfied: urllib3<3,>=1.21.1 in /home/gangagyatso/Desktop/work/stt-split-audio/.venv/lib/python3.10/site-packages (from requests->huggingface-hub>=0.13.0->pyannote.audio) (2.2.2)\n",
      "Requirement already satisfied: certifi>=2017.4.17 in /home/gangagyatso/Desktop/work/stt-split-audio/.venv/lib/python3.10/site-packages (from requests->huggingface-hub>=0.13.0->pyannote.audio) (2024.6.2)\n",
      "Requirement already satisfied: aiosignal>=1.1.2 in /home/gangagyatso/Desktop/work/stt-split-audio/.venv/lib/python3.10/site-packages (from aiohttp!=4.0.0a0,!=4.0.0a1->fsspec[http]<2026.0,>=2022.5.0->lightning>=2.0.1->pyannote.audio) (1.3.1)\n",
      "Requirement already satisfied: attrs>=17.3.0 in /home/gangagyatso/Desktop/work/stt-split-audio/.venv/lib/python3.10/site-packages (from aiohttp!=4.0.0a0,!=4.0.0a1->fsspec[http]<2026.0,>=2022.5.0->lightning>=2.0.1->pyannote.audio) (23.2.0)\n",
      "Requirement already satisfied: frozenlist>=1.1.1 in /home/gangagyatso/Desktop/work/stt-split-audio/.venv/lib/python3.10/site-packages (from aiohttp!=4.0.0a0,!=4.0.0a1->fsspec[http]<2026.0,>=2022.5.0->lightning>=2.0.1->pyannote.audio) (1.4.1)\n",
      "Requirement already satisfied: multidict<7.0,>=4.5 in /home/gangagyatso/Desktop/work/stt-split-audio/.venv/lib/python3.10/site-packages (from aiohttp!=4.0.0a0,!=4.0.0a1->fsspec[http]<2026.0,>=2022.5.0->lightning>=2.0.1->pyannote.audio) (6.0.5)\n",
      "Requirement already satisfied: yarl<2.0,>=1.0 in /home/gangagyatso/Desktop/work/stt-split-audio/.venv/lib/python3.10/site-packages (from aiohttp!=4.0.0a0,!=4.0.0a1->fsspec[http]<2026.0,>=2022.5.0->lightning>=2.0.1->pyannote.audio) (1.9.4)\n",
      "Requirement already satisfied: async-timeout<5.0,>=4.0 in /home/gangagyatso/Desktop/work/stt-split-audio/.venv/lib/python3.10/site-packages (from aiohttp!=4.0.0a0,!=4.0.0a1->fsspec[http]<2026.0,>=2022.5.0->lightning>=2.0.1->pyannote.audio) (4.0.3)\n",
      "Requirement already satisfied: Mako in /home/gangagyatso/Desktop/work/stt-split-audio/.venv/lib/python3.10/site-packages (from alembic>=1.5.0->optuna>=3.1->pyannote.pipeline>=3.0.1->pyannote.audio) (1.3.5)\n",
      "Requirement already satisfied: llvmlite<0.44,>=0.43.0dev0 in /home/gangagyatso/Desktop/work/stt-split-audio/.venv/lib/python3.10/site-packages (from numba>=0.51.0->librosa>=0.6.0->torch-audiomentations>=0.11.0->pyannote.audio) (0.43.0)\n",
      "Requirement already satisfied: platformdirs>=2.5.0 in /home/gangagyatso/Desktop/work/stt-split-audio/.venv/lib/python3.10/site-packages (from pooch>=1.1->librosa>=0.6.0->torch-audiomentations>=0.11.0->pyannote.audio) (4.2.2)\n",
      "Requirement already satisfied: six>=1.5 in /home/gangagyatso/Desktop/work/stt-split-audio/.venv/lib/python3.10/site-packages (from python-dateutil>=2.7->matplotlib>=2.0.0->pyannote.metrics>=3.2->pyannote.audio) (1.16.0)\n",
      "Requirement already satisfied: ruamel.yaml.clib>=0.2.7 in /home/gangagyatso/Desktop/work/stt-split-audio/.venv/lib/python3.10/site-packages (from ruamel.yaml>=0.17.28->hyperpyyaml->speechbrain>=1.0.0->pyannote.audio) (0.2.8)\n",
      "Requirement already satisfied: greenlet!=0.4.17 in /home/gangagyatso/Desktop/work/stt-split-audio/.venv/lib/python3.10/site-packages (from sqlalchemy>=1.3.0->optuna>=3.1->pyannote.pipeline>=3.0.1->pyannote.audio) (3.0.3)\n",
      "\n",
      "\u001b[1m[\u001b[0m\u001b[34;49mnotice\u001b[0m\u001b[1;39;49m]\u001b[0m\u001b[39;49m A new release of pip is available: \u001b[0m\u001b[31;49m24.1\u001b[0m\u001b[39;49m -> \u001b[0m\u001b[32;49m24.1.1\u001b[0m\n",
      "\u001b[1m[\u001b[0m\u001b[34;49mnotice\u001b[0m\u001b[1;39;49m]\u001b[0m\u001b[39;49m To update, run: \u001b[0m\u001b[32;49mpip install --upgrade pip\u001b[0m\n"
     ]
    }
   ],
   "source": [
    "!pip install pyannote.audio"
   ]
  },
  {
   "cell_type": "code",
   "execution_count": 7,
   "metadata": {},
   "outputs": [
    {
     "name": "stdout",
     "output_type": "stream",
     "text": [
      "Requirement already satisfied: torchvision in /home/gangagyatso/Desktop/work/stt-split-audio/.venv/lib/python3.10/site-packages (0.18.1)\n",
      "Requirement already satisfied: numpy in /home/gangagyatso/Desktop/work/stt-split-audio/.venv/lib/python3.10/site-packages (from torchvision) (1.26.4)\n",
      "Requirement already satisfied: torch==2.3.1 in /home/gangagyatso/Desktop/work/stt-split-audio/.venv/lib/python3.10/site-packages (from torchvision) (2.3.1)\n",
      "Requirement already satisfied: pillow!=8.3.*,>=5.3.0 in /home/gangagyatso/Desktop/work/stt-split-audio/.venv/lib/python3.10/site-packages (from torchvision) (10.3.0)\n",
      "Requirement already satisfied: filelock in /home/gangagyatso/Desktop/work/stt-split-audio/.venv/lib/python3.10/site-packages (from torch==2.3.1->torchvision) (3.15.4)\n",
      "Requirement already satisfied: typing-extensions>=4.8.0 in /home/gangagyatso/Desktop/work/stt-split-audio/.venv/lib/python3.10/site-packages (from torch==2.3.1->torchvision) (4.12.2)\n",
      "Requirement already satisfied: sympy in /home/gangagyatso/Desktop/work/stt-split-audio/.venv/lib/python3.10/site-packages (from torch==2.3.1->torchvision) (1.12.1)\n",
      "Requirement already satisfied: networkx in /home/gangagyatso/Desktop/work/stt-split-audio/.venv/lib/python3.10/site-packages (from torch==2.3.1->torchvision) (3.3)\n",
      "Requirement already satisfied: jinja2 in /home/gangagyatso/Desktop/work/stt-split-audio/.venv/lib/python3.10/site-packages (from torch==2.3.1->torchvision) (3.1.4)\n",
      "Requirement already satisfied: fsspec in /home/gangagyatso/Desktop/work/stt-split-audio/.venv/lib/python3.10/site-packages (from torch==2.3.1->torchvision) (2024.6.1)\n",
      "Requirement already satisfied: nvidia-cuda-nvrtc-cu12==12.1.105 in /home/gangagyatso/Desktop/work/stt-split-audio/.venv/lib/python3.10/site-packages (from torch==2.3.1->torchvision) (12.1.105)\n",
      "Requirement already satisfied: nvidia-cuda-runtime-cu12==12.1.105 in /home/gangagyatso/Desktop/work/stt-split-audio/.venv/lib/python3.10/site-packages (from torch==2.3.1->torchvision) (12.1.105)\n",
      "Requirement already satisfied: nvidia-cuda-cupti-cu12==12.1.105 in /home/gangagyatso/Desktop/work/stt-split-audio/.venv/lib/python3.10/site-packages (from torch==2.3.1->torchvision) (12.1.105)\n",
      "Requirement already satisfied: nvidia-cudnn-cu12==8.9.2.26 in /home/gangagyatso/Desktop/work/stt-split-audio/.venv/lib/python3.10/site-packages (from torch==2.3.1->torchvision) (8.9.2.26)\n",
      "Requirement already satisfied: nvidia-cublas-cu12==12.1.3.1 in /home/gangagyatso/Desktop/work/stt-split-audio/.venv/lib/python3.10/site-packages (from torch==2.3.1->torchvision) (12.1.3.1)\n",
      "Requirement already satisfied: nvidia-cufft-cu12==11.0.2.54 in /home/gangagyatso/Desktop/work/stt-split-audio/.venv/lib/python3.10/site-packages (from torch==2.3.1->torchvision) (11.0.2.54)\n",
      "Requirement already satisfied: nvidia-curand-cu12==10.3.2.106 in /home/gangagyatso/Desktop/work/stt-split-audio/.venv/lib/python3.10/site-packages (from torch==2.3.1->torchvision) (10.3.2.106)\n",
      "Requirement already satisfied: nvidia-cusolver-cu12==11.4.5.107 in /home/gangagyatso/Desktop/work/stt-split-audio/.venv/lib/python3.10/site-packages (from torch==2.3.1->torchvision) (11.4.5.107)\n",
      "Requirement already satisfied: nvidia-cusparse-cu12==12.1.0.106 in /home/gangagyatso/Desktop/work/stt-split-audio/.venv/lib/python3.10/site-packages (from torch==2.3.1->torchvision) (12.1.0.106)\n",
      "Requirement already satisfied: nvidia-nccl-cu12==2.20.5 in /home/gangagyatso/Desktop/work/stt-split-audio/.venv/lib/python3.10/site-packages (from torch==2.3.1->torchvision) (2.20.5)\n",
      "Requirement already satisfied: nvidia-nvtx-cu12==12.1.105 in /home/gangagyatso/Desktop/work/stt-split-audio/.venv/lib/python3.10/site-packages (from torch==2.3.1->torchvision) (12.1.105)\n",
      "Requirement already satisfied: triton==2.3.1 in /home/gangagyatso/Desktop/work/stt-split-audio/.venv/lib/python3.10/site-packages (from torch==2.3.1->torchvision) (2.3.1)\n",
      "Requirement already satisfied: nvidia-nvjitlink-cu12 in /home/gangagyatso/Desktop/work/stt-split-audio/.venv/lib/python3.10/site-packages (from nvidia-cusolver-cu12==11.4.5.107->torch==2.3.1->torchvision) (12.5.40)\n",
      "Requirement already satisfied: MarkupSafe>=2.0 in /home/gangagyatso/Desktop/work/stt-split-audio/.venv/lib/python3.10/site-packages (from jinja2->torch==2.3.1->torchvision) (2.1.5)\n",
      "Requirement already satisfied: mpmath<1.4.0,>=1.1.0 in /home/gangagyatso/Desktop/work/stt-split-audio/.venv/lib/python3.10/site-packages (from sympy->torch==2.3.1->torchvision) (1.3.0)\n",
      "\n",
      "\u001b[1m[\u001b[0m\u001b[34;49mnotice\u001b[0m\u001b[1;39;49m]\u001b[0m\u001b[39;49m A new release of pip is available: \u001b[0m\u001b[31;49m24.1\u001b[0m\u001b[39;49m -> \u001b[0m\u001b[32;49m24.1.1\u001b[0m\n",
      "\u001b[1m[\u001b[0m\u001b[34;49mnotice\u001b[0m\u001b[1;39;49m]\u001b[0m\u001b[39;49m To update, run: \u001b[0m\u001b[32;49mpip install --upgrade pip\u001b[0m\n"
     ]
    }
   ],
   "source": [
    "!pip install torchvision"
   ]
  },
  {
   "cell_type": "code",
   "execution_count": 27,
   "metadata": {},
   "outputs": [],
   "source": [
    "import sys\n",
    "sys.path.append('../util')\n",
    "\n",
    "from util import read_spreadsheet\n",
    "from util import collect_segments\n",
    "from util import split_audio_files"
   ]
  },
  {
   "cell_type": "code",
   "execution_count": 9,
   "metadata": {},
   "outputs": [],
   "source": [
    "import requests\n",
    "import os\n",
    "import subprocess\n",
    "\n",
    "def download_gh_file(url, local_filename):\n",
    "    response = requests.get(url, stream=True)\n",
    "    if response.status_code == 200:\n",
    "        with open(local_filename.strip(), 'wb') as f:\n",
    "            for chunk in response.iter_content(chunk_size=8192):\n",
    "                f.write(chunk)\n",
    "        print(f\"Downloaded {local_filename.strip()}\")\n",
    "    else:\n",
    "        print(f\"Failed to download {local_filename.strip()} from {url}. Status code: {response.status_code}\")\n"
   ]
  },
  {
   "cell_type": "code",
   "execution_count": 10,
   "metadata": {},
   "outputs": [],
   "source": [
    "def extract_audio(video_file, audio_file):\n",
    "    command = [\n",
    "        \"ffmpeg\",\n",
    "        \"-i\", video_file,\n",
    "        \"-q:a\", \"0\",\n",
    "        \"-map\", \"a\",\n",
    "        audio_file\n",
    "    ]\n",
    "    try:\n",
    "        subprocess.run(command, check=True)\n",
    "        print(f\"Extracted audio to {audio_file}\")\n",
    "    except subprocess.CalledProcessError as e:\n",
    "        print(f\"Failed to extract audio from {video_file}. Error: {e}\")\n"
   ]
  },
  {
   "cell_type": "code",
   "execution_count": 11,
   "metadata": {},
   "outputs": [
    {
     "name": "stdout",
     "output_type": "stream",
     "text": [
      "Downloaded video_from_gh/STT_NW0508.MP4\n"
     ]
    },
    {
     "name": "stderr",
     "output_type": "stream",
     "text": [
      "ffmpeg version 7.0.1-static https://johnvansickle.com/ffmpeg/  Copyright (c) 2000-2024 the FFmpeg developers\n",
      "  built with gcc 8 (Debian 8.3.0-6)\n",
      "  configuration: --enable-gpl --enable-version3 --enable-static --disable-debug --disable-ffplay --disable-indev=sndio --disable-outdev=sndio --cc=gcc --enable-fontconfig --enable-frei0r --enable-gnutls --enable-gmp --enable-libgme --enable-gray --enable-libaom --enable-libfribidi --enable-libass --enable-libvmaf --enable-libfreetype --enable-libmp3lame --enable-libopencore-amrnb --enable-libopencore-amrwb --enable-libopenjpeg --enable-librubberband --enable-libsoxr --enable-libspeex --enable-libsrt --enable-libvorbis --enable-libopus --enable-libtheora --enable-libvidstab --enable-libvo-amrwbenc --enable-libvpx --enable-libwebp --enable-libx264 --enable-libx265 --enable-libxml2 --enable-libdav1d --enable-libxvid --enable-libzvbi --enable-libzimg\n",
      "  libavutil      59.  8.100 / 59.  8.100\n",
      "  libavcodec     61.  3.100 / 61.  3.100\n",
      "  libavformat    61.  1.100 / 61.  1.100\n",
      "  libavdevice    61.  1.100 / 61.  1.100\n",
      "  libavfilter    10.  1.100 / 10.  1.100\n",
      "  libswscale      8.  1.100 /  8.  1.100\n",
      "  libswresample   5.  1.100 /  5.  1.100\n",
      "  libpostproc    58.  1.100 / 58.  1.100\n",
      "Input #0, mov,mp4,m4a,3gp,3g2,mj2, from 'video_from_gh/STT_NW0508.MP4':\n",
      "  Metadata:\n",
      "    major_brand     : isom\n",
      "    minor_version   : 512\n",
      "    compatible_brands: isomiso2avc1mp41\n",
      "    comment         : vid:v0300fg10000cljgmp3c77u7hto2pfl0\n",
      "    encoder         : Lavf58.76.100\n",
      "  Duration: 00:04:36.12, start: 0.000000, bitrate: 1187 kb/s\n",
      "  Stream #0:0[0x1](und): Video: h264 (High) (avc1 / 0x31637661), yuv420p(tv, bt709, progressive), 720x1280 [SAR 1:1 DAR 9:16], 1053 kb/s, 25 fps, 25 tbr, 12800 tbn (default)\n",
      "      Metadata:\n",
      "        handler_name    : VideoHandler\n",
      "        vendor_id       : [0][0][0][0]\n",
      "  Stream #0:1[0x2](und): Audio: aac (LC) (mp4a / 0x6134706D), 44100 Hz, stereo, fltp, 128 kb/s (default)\n",
      "      Metadata:\n",
      "        handler_name    : SoundHandler\n",
      "        vendor_id       : [0][0][0][0]\n",
      "Stream mapping:\n",
      "  Stream #0:1 -> #0:0 (aac (native) -> pcm_s16le (native))\n",
      "Press [q] to stop, [?] for help\n",
      "Output #0, wav, to 'audio_from_gh/STT_NW0508.wav':\n",
      "  Metadata:\n",
      "    major_brand     : isom\n",
      "    minor_version   : 512\n",
      "    compatible_brands: isomiso2avc1mp41\n",
      "    ICMT            : vid:v0300fg10000cljgmp3c77u7hto2pfl0\n",
      "    ISFT            : Lavf61.1.100\n",
      "  Stream #0:0(und): Audio: pcm_s16le ([1][0][0][0] / 0x0001), 44100 Hz, stereo, s16, 1411 kb/s (default)\n",
      "      Metadata:\n",
      "        handler_name    : SoundHandler\n",
      "        vendor_id       : [0][0][0][0]\n",
      "        encoder         : Lavc61.3.100 pcm_s16le\n",
      "[out#0/wav @ 0x6f1bb80] video:0KiB audio:47560KiB subtitle:0KiB other streams:0KiB global headers:0KiB muxing overhead: 0.000255%\n",
      "size=   47560KiB time=00:04:36.08 bitrate=1411.2kbits/s speed=1.58e+03x    \n"
     ]
    },
    {
     "name": "stdout",
     "output_type": "stream",
     "text": [
      "Extracted audio to audio_from_gh/STT_NW0508.wav\n",
      "Downloaded video_from_gh/STT_NW0509.MP4\n"
     ]
    },
    {
     "name": "stderr",
     "output_type": "stream",
     "text": [
      "ffmpeg version 7.0.1-static https://johnvansickle.com/ffmpeg/  Copyright (c) 2000-2024 the FFmpeg developers\n",
      "  built with gcc 8 (Debian 8.3.0-6)\n",
      "  configuration: --enable-gpl --enable-version3 --enable-static --disable-debug --disable-ffplay --disable-indev=sndio --disable-outdev=sndio --cc=gcc --enable-fontconfig --enable-frei0r --enable-gnutls --enable-gmp --enable-libgme --enable-gray --enable-libaom --enable-libfribidi --enable-libass --enable-libvmaf --enable-libfreetype --enable-libmp3lame --enable-libopencore-amrnb --enable-libopencore-amrwb --enable-libopenjpeg --enable-librubberband --enable-libsoxr --enable-libspeex --enable-libsrt --enable-libvorbis --enable-libopus --enable-libtheora --enable-libvidstab --enable-libvo-amrwbenc --enable-libvpx --enable-libwebp --enable-libx264 --enable-libx265 --enable-libxml2 --enable-libdav1d --enable-libxvid --enable-libzvbi --enable-libzimg\n",
      "  libavutil      59.  8.100 / 59.  8.100\n",
      "  libavcodec     61.  3.100 / 61.  3.100\n",
      "  libavformat    61.  1.100 / 61.  1.100\n",
      "  libavdevice    61.  1.100 / 61.  1.100\n",
      "  libavfilter    10.  1.100 / 10.  1.100\n",
      "  libswscale      8.  1.100 /  8.  1.100\n",
      "  libswresample   5.  1.100 /  5.  1.100\n",
      "  libpostproc    58.  1.100 / 58.  1.100\n",
      "Input #0, mov,mp4,m4a,3gp,3g2,mj2, from 'video_from_gh/STT_NW0509.MP4':\n",
      "  Metadata:\n",
      "    major_brand     : isom\n",
      "    minor_version   : 512\n",
      "    compatible_brands: isomiso2avc1mp41\n",
      "    comment         : vid:v0300fg10000cp01703c77udr10foj10\n",
      "    encoder         : Lavf58.76.100\n",
      "  Duration: 00:04:37.66, start: 0.000000, bitrate: 1429 kb/s\n",
      "  Stream #0:0[0x1](und): Video: h264 (High) (avc1 / 0x31637661), yuv420p(tv, bt709, progressive), 720x1280 [SAR 1:1 DAR 9:16], 1288 kb/s, 60 fps, 60 tbr, 15360 tbn (default)\n",
      "      Metadata:\n",
      "        handler_name    : VideoHandler\n",
      "        vendor_id       : [0][0][0][0]\n",
      "  Stream #0:1[0x2](und): Audio: aac (LC) (mp4a / 0x6134706D), 44100 Hz, stereo, fltp, 128 kb/s (default)\n",
      "      Metadata:\n",
      "        handler_name    : SoundHandler\n",
      "        vendor_id       : [0][0][0][0]\n",
      "Stream mapping:\n",
      "  Stream #0:1 -> #0:0 (aac (native) -> pcm_s16le (native))\n",
      "Press [q] to stop, [?] for help\n",
      "Output #0, wav, to 'audio_from_gh/STT_NW0509.wav':\n",
      "  Metadata:\n",
      "    major_brand     : isom\n",
      "    minor_version   : 512\n",
      "    compatible_brands: isomiso2avc1mp41\n",
      "    ICMT            : vid:v0300fg10000cp01703c77udr10foj10\n",
      "    ISFT            : Lavf61.1.100\n",
      "  Stream #0:0(und): Audio: pcm_s16le ([1][0][0][0] / 0x0001), 44100 Hz, stereo, s16, 1411 kb/s (default)\n",
      "      Metadata:\n",
      "        handler_name    : SoundHandler\n",
      "        vendor_id       : [0][0][0][0]\n",
      "        encoder         : Lavc61.3.100 pcm_s16le\n"
     ]
    },
    {
     "name": "stdout",
     "output_type": "stream",
     "text": [
      "Extracted audio to audio_from_gh/STT_NW0509.wav\n"
     ]
    },
    {
     "name": "stderr",
     "output_type": "stream",
     "text": [
      "[out#0/wav @ 0x7da7180] video:0KiB audio:47832KiB subtitle:0KiB other streams:0KiB global headers:0KiB muxing overhead: 0.000253%\n",
      "size=   47832KiB time=00:04:37.66 bitrate=1411.2kbits/s speed=1.49e+03x    \n"
     ]
    }
   ],
   "source": [
    "# Ensure directories exist\n",
    "os.makedirs('video_from_gh', exist_ok=True)\n",
    "os.makedirs('audio_from_gh', exist_ok=True)\n",
    "\n",
    "# Example usage:\n",
    "from_id = 1 \n",
    "to_id = 2\n",
    "\n",
    "df = read_spreadsheet(sheet_id=\"1g6RVrHXygLzg4d2IduliUpg8fzvJzqYcbddS02nvyv8\")\n",
    "\n",
    "for index, row in df.iterrows():\n",
    "    if not isinstance(row['File Name'], str) or not isinstance(row['asset_url'], str):\n",
    "        break\n",
    "    id = row['File Name']\n",
    "    url_path = row['asset_url']\n",
    "    video_filename = f\"video_from_gh/{id}.MP4\".strip()\n",
    "    audio_filename = f\"audio_from_gh/{id}.wav\".strip()\n",
    "    sr_no = row.iloc[0]\n",
    "    if sr_no >= from_id and sr_no <= to_id:\n",
    "        if os.path.exists(audio_filename):\n",
    "            print(f\"Audio file {audio_filename} already exists. Skipping extraction.\")\n",
    "            continue\n",
    "        if not os.path.exists(video_filename):\n",
    "            download_gh_file(url_path, video_filename)\n",
    "        extract_audio(video_filename, audio_filename)"
   ]
  },
  {
   "cell_type": "code",
   "execution_count": 16,
   "metadata": {},
   "outputs": [
    {
     "name": "stdout",
     "output_type": "stream",
     "text": [
      "Requirement already satisfied: pydub in /home/gangagyatso/Desktop/work/stt-split-audio/.venv/lib/python3.10/site-packages (0.25.1)\n",
      "\n",
      "\u001b[1m[\u001b[0m\u001b[34;49mnotice\u001b[0m\u001b[1;39;49m]\u001b[0m\u001b[39;49m A new release of pip is available: \u001b[0m\u001b[31;49m24.1\u001b[0m\u001b[39;49m -> \u001b[0m\u001b[32;49m24.1.1\u001b[0m\n",
      "\u001b[1m[\u001b[0m\u001b[34;49mnotice\u001b[0m\u001b[1;39;49m]\u001b[0m\u001b[39;49m To update, run: \u001b[0m\u001b[32;49mpip install --upgrade pip\u001b[0m\n"
     ]
    }
   ],
   "source": [
    "!pip install pydub"
   ]
  },
  {
   "cell_type": "code",
   "execution_count": 17,
   "metadata": {},
   "outputs": [],
   "source": [
    "import subprocess\n",
    "import os\n",
    "\n",
    "def convert_to_16K(input_file, output_file):\n",
    "    # Check if the output file already exists\n",
    "    if os.path.exists(output_file):\n",
    "        print(f\"Output file {output_file} already exists. Skipping conversion.\")\n",
    "        return False\n",
    "    \n",
    "    # Construct the ffmpeg command\n",
    "    ffmpeg_command = [\n",
    "        \"ffmpeg\",\n",
    "        \"-i\", input_file,\n",
    "        \"-f\", \"wav\",            # Force input format as WAV\n",
    "        \"-bitexact\",            # Preserve exact precision\n",
    "        \"-acodec\", \"pcm_s16le\", # Audio codec: PCM signed 16-bit little-endian\n",
    "        \"-ac\", \"1\",             # Mono channel\n",
    "        \"-ar\", \"16000\",         # 16 kHz sample rate\n",
    "        output_file,\n",
    "        \"-y\"                    # Overwrite output file if it exists\n",
    "    ]\n",
    "    \n",
    "    # Join the ffmpeg command into a single string for subprocess\n",
    "    ffmpeg_command_str = \" \".join(ffmpeg_command)\n",
    "    \n",
    "    try:\n",
    "        # Run ffmpeg command using subprocess\n",
    "        subprocess.run(ffmpeg_command_str, shell=True, check=True, capture_output=True)\n",
    "        print(f\"Conversion successful: {input_file} -> {output_file}\")\n",
    "        return True\n",
    "    except subprocess.CalledProcessError as e:\n",
    "        print(f\"Conversion failed: {e}\")\n",
    "        return False\n"
   ]
  },
  {
   "cell_type": "code",
   "execution_count": 18,
   "metadata": {},
   "outputs": [],
   "source": [
    "from pathlib import Path\n",
    "path = Path('./audio_from_gh/')\n",
    "full_audios = set([e.stem for e in path.iterdir() if e.is_file()])"
   ]
  },
  {
   "cell_type": "code",
   "execution_count": 19,
   "metadata": {},
   "outputs": [
    {
     "name": "stdout",
     "output_type": "stream",
     "text": [
      "{'STT_NW0508', 'STT_NW0509'}\n"
     ]
    }
   ],
   "source": [
    "print(full_audios)"
   ]
  },
  {
   "cell_type": "code",
   "execution_count": 24,
   "metadata": {},
   "outputs": [
    {
     "name": "stdout",
     "output_type": "stream",
     "text": [
      "STT_NW0508\n",
      "Output file audio_16k/STT_NW0508.wav already exists. Skipping conversion.\n",
      "STT_NW0509\n",
      "Output file audio_16k/STT_NW0509.wav already exists. Skipping conversion.\n"
     ]
    }
   ],
   "source": [
    "os.makedirs('audio_16k', exist_ok=True)\n",
    "for full_audio in full_audios:\n",
    "    print(full_audio)\n",
    "    input_file = f\"audio_from_gh/{full_audio}.wav\"\n",
    "    output_file = f\"audio_16k/{full_audio}.wav\"\n",
    "    convert_to_16K(input_file, output_file)"
   ]
  },
  {
   "cell_type": "code",
   "execution_count": 25,
   "metadata": {},
   "outputs": [],
   "source": [
    "import shutil\n",
    "import os\n",
    "for file in os.listdir(\"audio_16k\"):\n",
    "    if not os.path.exists( os.path.join(\"./full_audio/\",file)):\n",
    "        os.makedirs(\"./full_audio/\", exist_ok=True)\n",
    "        print(\"coppying \", file)\n",
    "        shutil.copy(os.path.join(\"audio_16k\",file), os.path.join(\"./full_audio/\",file))"
   ]
  },
  {
   "cell_type": "code",
   "execution_count": 28,
   "metadata": {},
   "outputs": [
    {
     "ename": "ImportError",
     "evalue": "IProgress not found. Please update jupyter and ipywidgets. See https://ipywidgets.readthedocs.io/en/stable/user_install.html",
     "output_type": "error",
     "traceback": [
      "\u001b[0;31m---------------------------------------------------------------------------\u001b[0m",
      "\u001b[0;31mImportError\u001b[0m                               Traceback (most recent call last)",
      "Cell \u001b[0;32mIn[28], line 1\u001b[0m\n\u001b[0;32m----> 1\u001b[0m \u001b[43msplit_audio_files\u001b[49m\u001b[43m(\u001b[49m\u001b[38;5;124;43m'\u001b[39;49m\u001b[38;5;124;43mSTT_NW\u001b[39;49m\u001b[38;5;124;43m'\u001b[39;49m\u001b[43m,\u001b[49m\u001b[43m \u001b[49m\u001b[38;5;124;43m'\u001b[39;49m\u001b[38;5;124;43mwav\u001b[39;49m\u001b[38;5;124;43m'\u001b[39;49m\u001b[43m)\u001b[49m\n",
      "File \u001b[0;32m~/Desktop/work/stt-split-audio/STT_NW/../util/util.py:437\u001b[0m, in \u001b[0;36msplit_audio_files\u001b[0;34m(prefix, ext)\u001b[0m\n\u001b[1;32m    430\u001b[0m stt_files \u001b[38;5;241m=\u001b[39m [\n\u001b[1;32m    431\u001b[0m     filename\n\u001b[1;32m    432\u001b[0m     \u001b[38;5;28;01mfor\u001b[39;00m filename \u001b[38;5;129;01min\u001b[39;00m os\u001b[38;5;241m.\u001b[39mlistdir(\u001b[38;5;124m\"\u001b[39m\u001b[38;5;124mfull_audio\u001b[39m\u001b[38;5;124m\"\u001b[39m)\n\u001b[1;32m    433\u001b[0m     \u001b[38;5;28;01mif\u001b[39;00m filename\u001b[38;5;241m.\u001b[39mstartswith(prefix)\n\u001b[1;32m    434\u001b[0m     \u001b[38;5;129;01mand\u001b[39;00m os\u001b[38;5;241m.\u001b[39mpath\u001b[38;5;241m.\u001b[39misfile(os\u001b[38;5;241m.\u001b[39mpath\u001b[38;5;241m.\u001b[39mjoin(\u001b[38;5;124m\"\u001b[39m\u001b[38;5;124mfull_audio\u001b[39m\u001b[38;5;124m\"\u001b[39m, filename))\n\u001b[1;32m    435\u001b[0m ]\n\u001b[1;32m    436\u001b[0m \u001b[38;5;66;03m# print(stt_files)\u001b[39;00m\n\u001b[0;32m--> 437\u001b[0m \u001b[38;5;28;01mfor\u001b[39;00m stt_file \u001b[38;5;129;01min\u001b[39;00m \u001b[43mtqdm\u001b[49m\u001b[43m(\u001b[49m\u001b[43mstt_files\u001b[49m\u001b[43m)\u001b[49m:\n\u001b[1;32m    438\u001b[0m     \u001b[38;5;66;03m# print(stt_file)\u001b[39;00m\n\u001b[1;32m    439\u001b[0m     stt_file \u001b[38;5;241m=\u001b[39m stt_file\u001b[38;5;241m.\u001b[39msplit(\u001b[38;5;124m\"\u001b[39m\u001b[38;5;124m.\u001b[39m\u001b[38;5;124m\"\u001b[39m)[\u001b[38;5;241m0\u001b[39m]\n\u001b[1;32m    440\u001b[0m     split_audio(audio_file\u001b[38;5;241m=\u001b[39m\u001b[38;5;124mf\u001b[39m\u001b[38;5;124m\"\u001b[39m\u001b[38;5;124m./full_audio/\u001b[39m\u001b[38;5;132;01m{\u001b[39;00mstt_file\u001b[38;5;132;01m}\u001b[39;00m\u001b[38;5;124m.\u001b[39m\u001b[38;5;132;01m{\u001b[39;00mext\u001b[38;5;132;01m}\u001b[39;00m\u001b[38;5;124m\"\u001b[39m, output_folder\u001b[38;5;241m=\u001b[39mstt_file)\n",
      "File \u001b[0;32m~/Desktop/work/stt-split-audio/.venv/lib/python3.10/site-packages/tqdm/notebook.py:234\u001b[0m, in \u001b[0;36mtqdm_notebook.__init__\u001b[0;34m(self, *args, **kwargs)\u001b[0m\n\u001b[1;32m    232\u001b[0m unit_scale \u001b[38;5;241m=\u001b[39m \u001b[38;5;241m1\u001b[39m \u001b[38;5;28;01mif\u001b[39;00m \u001b[38;5;28mself\u001b[39m\u001b[38;5;241m.\u001b[39munit_scale \u001b[38;5;129;01mis\u001b[39;00m \u001b[38;5;28;01mTrue\u001b[39;00m \u001b[38;5;28;01melse\u001b[39;00m \u001b[38;5;28mself\u001b[39m\u001b[38;5;241m.\u001b[39munit_scale \u001b[38;5;129;01mor\u001b[39;00m \u001b[38;5;241m1\u001b[39m\n\u001b[1;32m    233\u001b[0m total \u001b[38;5;241m=\u001b[39m \u001b[38;5;28mself\u001b[39m\u001b[38;5;241m.\u001b[39mtotal \u001b[38;5;241m*\u001b[39m unit_scale \u001b[38;5;28;01mif\u001b[39;00m \u001b[38;5;28mself\u001b[39m\u001b[38;5;241m.\u001b[39mtotal \u001b[38;5;28;01melse\u001b[39;00m \u001b[38;5;28mself\u001b[39m\u001b[38;5;241m.\u001b[39mtotal\n\u001b[0;32m--> 234\u001b[0m \u001b[38;5;28mself\u001b[39m\u001b[38;5;241m.\u001b[39mcontainer \u001b[38;5;241m=\u001b[39m \u001b[38;5;28;43mself\u001b[39;49m\u001b[38;5;241;43m.\u001b[39;49m\u001b[43mstatus_printer\u001b[49m\u001b[43m(\u001b[49m\u001b[38;5;28;43mself\u001b[39;49m\u001b[38;5;241;43m.\u001b[39;49m\u001b[43mfp\u001b[49m\u001b[43m,\u001b[49m\u001b[43m \u001b[49m\u001b[43mtotal\u001b[49m\u001b[43m,\u001b[49m\u001b[43m \u001b[49m\u001b[38;5;28;43mself\u001b[39;49m\u001b[38;5;241;43m.\u001b[39;49m\u001b[43mdesc\u001b[49m\u001b[43m,\u001b[49m\u001b[43m \u001b[49m\u001b[38;5;28;43mself\u001b[39;49m\u001b[38;5;241;43m.\u001b[39;49m\u001b[43mncols\u001b[49m\u001b[43m)\u001b[49m\n\u001b[1;32m    235\u001b[0m \u001b[38;5;28mself\u001b[39m\u001b[38;5;241m.\u001b[39mcontainer\u001b[38;5;241m.\u001b[39mpbar \u001b[38;5;241m=\u001b[39m proxy(\u001b[38;5;28mself\u001b[39m)\n\u001b[1;32m    236\u001b[0m \u001b[38;5;28mself\u001b[39m\u001b[38;5;241m.\u001b[39mdisplayed \u001b[38;5;241m=\u001b[39m \u001b[38;5;28;01mFalse\u001b[39;00m\n",
      "File \u001b[0;32m~/Desktop/work/stt-split-audio/.venv/lib/python3.10/site-packages/tqdm/notebook.py:108\u001b[0m, in \u001b[0;36mtqdm_notebook.status_printer\u001b[0;34m(_, total, desc, ncols)\u001b[0m\n\u001b[1;32m     99\u001b[0m \u001b[38;5;66;03m# Fallback to text bar if there's no total\u001b[39;00m\n\u001b[1;32m    100\u001b[0m \u001b[38;5;66;03m# DEPRECATED: replaced with an 'info' style bar\u001b[39;00m\n\u001b[1;32m    101\u001b[0m \u001b[38;5;66;03m# if not total:\u001b[39;00m\n\u001b[0;32m   (...)\u001b[0m\n\u001b[1;32m    105\u001b[0m \n\u001b[1;32m    106\u001b[0m \u001b[38;5;66;03m# Prepare IPython progress bar\u001b[39;00m\n\u001b[1;32m    107\u001b[0m \u001b[38;5;28;01mif\u001b[39;00m IProgress \u001b[38;5;129;01mis\u001b[39;00m \u001b[38;5;28;01mNone\u001b[39;00m:  \u001b[38;5;66;03m# #187 #451 #558 #872\u001b[39;00m\n\u001b[0;32m--> 108\u001b[0m     \u001b[38;5;28;01mraise\u001b[39;00m \u001b[38;5;167;01mImportError\u001b[39;00m(WARN_NOIPYW)\n\u001b[1;32m    109\u001b[0m \u001b[38;5;28;01mif\u001b[39;00m total:\n\u001b[1;32m    110\u001b[0m     pbar \u001b[38;5;241m=\u001b[39m IProgress(\u001b[38;5;28mmin\u001b[39m\u001b[38;5;241m=\u001b[39m\u001b[38;5;241m0\u001b[39m, \u001b[38;5;28mmax\u001b[39m\u001b[38;5;241m=\u001b[39mtotal)\n",
      "\u001b[0;31mImportError\u001b[0m: IProgress not found. Please update jupyter and ipywidgets. See https://ipywidgets.readthedocs.io/en/stable/user_install.html"
     ]
    }
   ],
   "source": [
    "split_audio_files('STT_NW', 'wav')"
   ]
  },
  {
   "cell_type": "code",
   "execution_count": null,
   "metadata": {},
   "outputs": [],
   "source": [
    "collect_segments('STT_NW', 'after_split', 'segments_nw')"
   ]
  },
  {
   "cell_type": "code",
   "execution_count": null,
   "metadata": {},
   "outputs": [],
   "source": [
    "! aws s3 cp segments_nw  s3://monlam.ai.stt/wav16k/ --recursive"
   ]
  }
 ],
 "metadata": {
  "kernelspec": {
   "display_name": ".venv",
   "language": "python",
   "name": "python3"
  },
  "language_info": {
   "codemirror_mode": {
    "name": "ipython",
    "version": 3
   },
   "file_extension": ".py",
   "mimetype": "text/x-python",
   "name": "python",
   "nbconvert_exporter": "python",
   "pygments_lexer": "ipython3",
   "version": "3.10.12"
  }
 },
 "nbformat": 4,
 "nbformat_minor": 2
}
